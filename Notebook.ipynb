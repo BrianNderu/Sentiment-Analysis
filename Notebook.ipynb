{
 "cells": [
  {
   "attachments": {
    "smily%20heart.avif": {
     "image/avif": "[encoded data removed]"
    }
   },
   "cell_type": "markdown",
   "id": "d2be7ec3",
   "metadata": {},
   "source": [
    "![smily%20heart.avif](attachment:smily%20heart.avif)"
   ]
  },
  {
   "cell_type": "markdown",
   "id": "7b9f07b1",
   "metadata": {},
   "source": [
    "# Sentiment Analysis Project."
   ]
  },
  {
   "cell_type": "markdown",
   "id": "e748e415",
   "metadata": {},
   "source": [
    "# Business Overview \n",
    "#### Introduction \n",
    "In today’s digital age, social media platforms such as Twitter have become powerful sources of real-time customer feedback and opinions. Understanding the sentiment expressed by customers toward specific brands and products is essential for businesses to make informed decisions, enhance customer satisfaction, and maintain a positive brand reputation.\n",
    "\n",
    "The goal of this project aims to develop a sentimental analysis model specifically tailored to analyze Twitter data related to Google, Apple, and other products.\n",
    "\n",
    "## Business Problem Statement\n",
    "Assigned the task of building a model that can rate the sentiment of a Tweet based on its content that can correctly categorize Twitter sentiment about Apple and Google products into positive, negative, or neutral categories and gain valuable insights into public perception, that will be used for informed decision-making in business strategies and customer satisfaction enterprise.\n"
   ]
  },
  {
   "cell_type": "markdown",
   "id": "ed2cd3a3",
   "metadata": {},
   "source": [
    "### **Data Understanding**\n",
    "\n",
    "For this project, we utilized a dataset from CrowdFlower via Data.world, consisting of approximately 9,000 tweet sentiments about Apple and Google products. The dataset includes columns such as tweet_text, emotion_in_tweet_is_directed_at, and is_there_an_emotion_directed_at_a_brand_or_product. \n",
    "Our objective is to develop a sentiment analysis model that should accurately classify tweets into positive, negative, or neutral sentiment categories.\n",
    "\n",
    "#### Objectives for the project:\n",
    "\n",
    "1. To develop a binary classifier that can classify tweets into positive or negative sentiment categories. This will serve as a proof of concept and provide a foundation for further analysis. The classifier will be a Logistic regression model and the benchmark accuracy will be 85%.\n",
    "2. To expand to a multiclass classifier, thereby incorporating the neutral tweets to create a multiclass classifier that can accurately classify tweets as positive, negative, or neutral. This will provide a more comprehensive sentiment analysis of the tweets. The classifier will be a XGBoost model and MultinomialNB the benchmark accuracy will be 70%. \n",
    "3. To compare sentiment between Apple and Google products by analyzing the sentiment distribution of tweets mentioning Apple,  Google, and other products.\n"
   ]
  },
  {
   "cell_type": "markdown",
   "id": "96de6daa",
   "metadata": {},
   "source": [
    "### **Data Preparation**\n",
    "\n",
    "To prepare the data, we performed various preprocessing steps. \n",
    "\n",
    "These included; removing duplicates, handling missing values by filling them with \"none\" for the emotion_in_tweet_is_directed_at column, and dropping the row with a missing tweet_text. We also employed tokenization, lowercase conversion, stopword removal, and lemmatization to refine the text data.\n"
   ]
  },
  {
   "cell_type": "markdown",
   "id": "056c93c2",
   "metadata": {},
   "source": [
    "### **Modeling**\n",
    "\n",
    "The packages/libraries utilized for data preparation and analysis included NLTK, sklearn, and pandas. \n",
    "\n",
    "* NLTK was used for tokenization, stopword removal, and lemmatization. \n",
    "* Sklearn's CountVectorizer  was employed for vectorization. \n",
    "* Pandas was used for data manipulation and handling missing values.\n",
    "\n",
    "For modeling, we employed logistic regression as the binary classifier to classify tweets into positive or negative sentiment categories. As a benchmark, we aimed for an accuracy of 70%. \n",
    "\n",
    "In addition, we expanded the model to a multiclass classifier to include the neutral sentiment category.\n"
   ]
  },
  {
   "cell_type": "markdown",
   "id": "aed019ac",
   "metadata": {},
   "source": [
    "### Testing Model "
   ]
  },
  {
   "cell_type": "markdown",
   "id": "72ff5136",
   "metadata": {},
   "source": [
    "### **Evaluation**\n",
    "\n",
    "To evaluate the performance of the final model, we employed accuracy. This metric provided insight into the model's ability to correctly classify instances and predict positive and negative sentiment.\n",
    "\n",
    "Accuracy is a commonly used metric for evaluating sentiment analysis models because it provides a straightforward measure of the overall performance. In sentiment analysis, the primary goal is to classify a given text or document into positive, negative, or neutral sentiment categories accurately.\n",
    "Accuracy, in this context, represents the proportion of correctly classified instances compared to the total number of instances. It gives a clear indication of how well a sentiment analysis model is able to predict sentiment labels correctly across the entire dataset.\n",
    "\n",
    "In conclusion, the sentiment analysis model developed using logistic regression demonstrated satisfactory performance in classifying tweet sentiments. The pre-processing steps and modeling choices contributed to accurate predictions and meaningful insights. However, limitations such as missing values and data quality issues should be considered when interpreting the results. Recommendations include further refining the model and expanding the dataset for improved sentiment analysis accuracy."
   ]
  },
  {
   "cell_type": "markdown",
   "id": "d5b9ced3",
   "metadata": {},
   "source": [
    "### **Deployment**\n",
    "We deployed the model using the framework STREAMLIT. The application takes a sentence and returns the sentiment. Link to web app https://moringaphase4project.streamlit.app/\n",
    "\n"
   ]
  },
  {
   "cell_type": "markdown",
   "id": "50eb49bb",
   "metadata": {},
   "source": [
    "### Data understanding"
   ]
  },
  {
   "cell_type": "markdown",
   "id": "8d7c77fa",
   "metadata": {},
   "source": [
    "### Load Libraries\n",
    "We will start by importing all libraries used throughout the notebook."
   ]
  },
  {
   "cell_type": "code",
   "execution_count": 1,
   "id": "4a3416be",
   "metadata": {},
   "outputs": [
    {
     "name": "stderr",
     "output_type": "stream",
     "text": [
      "[nltk_data] Downloading package punkt to\n",
      "[nltk_data]     C:\\Users\\user\\AppData\\Roaming\\nltk_data...\n",
      "[nltk_data]   Package punkt is already up-to-date!\n",
      "[nltk_data] Downloading package stopwords to\n",
      "[nltk_data]     C:\\Users\\user\\AppData\\Roaming\\nltk_data...\n",
      "[nltk_data]   Package stopwords is already up-to-date!\n",
      "[nltk_data] Downloading package wordnet to\n",
      "[nltk_data]     C:\\Users\\user\\AppData\\Roaming\\nltk_data...\n",
      "[nltk_data]   Package wordnet is already up-to-date!\n"
     ]
    }
   ],
   "source": [
    "#loading libraries\n",
    "\n",
    "import re\n",
    "import pandas as pd\n",
    "import numpy as np\n",
    "import seaborn as sns\n",
    "import matplotlib.pyplot as plt\n",
    "%matplotlib inline\n",
    "import string\n",
    "import warnings\n",
    "warnings.filterwarnings(action='ignore', category=FutureWarning)\n",
    "\n",
    "import nltk\n",
    "nltk.download('punkt')\n",
    "nltk.download('stopwords')\n",
    "nltk.download('wordnet')\n",
    "from nltk.stem import WordNetLemmatizer\n",
    "from sklearn.preprocessing import LabelEncoder\n",
    "from nltk.tokenize import word_tokenize, sent_tokenize\n",
    "from nltk.corpus import stopwords\n",
    "from sklearn.feature_extraction.text import CountVectorizer, TfidfVectorizer\n",
    "from nltk import FreqDist\n",
    "\n",
    "# modelling libraries\n",
    "from sklearn.model_selection import train_test_split\n",
    "from sklearn.linear_model import LogisticRegression\n",
    "from sklearn.metrics import accuracy_score, classification_report, confusion_matrix\n",
    "from sklearn import metrics\n",
    "from sklearn.naive_bayes import MultinomialNB\n",
    "import xgboost as xgb\n",
    "\n",
    "#imbalance libraries \n",
    "from imblearn.over_sampling import RandomOverSampler\n",
    "from imblearn.under_sampling import RandomUnderSampler\n",
    "import xgboost as xgb\n",
    "from sklearn.metrics import accuracy_score"
   ]
  },
  {
   "cell_type": "markdown",
   "id": "33194737",
   "metadata": {},
   "source": [
    "### Loading the data \n"
   ]
  },
  {
   "cell_type": "code",
   "execution_count": 2,
   "id": "d347a92d",
   "metadata": {},
   "outputs": [
    {
     "data": {
      "text/html": [
       "<div>\n",
       "<style scoped>\n",
       "    .dataframe tbody tr th:only-of-type {\n",
       "        vertical-align: middle;\n",
       "    }\n",
       "\n",
       "    .dataframe tbody tr th {\n",
       "        vertical-align: top;\n",
       "    }\n",
       "\n",
       "    .dataframe thead th {\n",
       "        text-align: right;\n",
       "    }\n",
       "</style>\n",
       "<table border=\"1\" class=\"dataframe\">\n",
       "  <thead>\n",
       "    <tr style=\"text-align: right;\">\n",
       "      <th></th>\n",
       "      <th>tweet_text</th>\n",
       "      <th>emotion_in_tweet_is_directed_at</th>\n",
       "      <th>is_there_an_emotion_directed_at_a_brand_or_product</th>\n",
       "    </tr>\n",
       "  </thead>\n",
       "  <tbody>\n",
       "    <tr>\n",
       "      <th>0</th>\n",
       "      <td>.@wesley83 I have a 3G iPhone. After 3 hrs twe...</td>\n",
       "      <td>iPhone</td>\n",
       "      <td>Negative emotion</td>\n",
       "    </tr>\n",
       "    <tr>\n",
       "      <th>1</th>\n",
       "      <td>@jessedee Know about @fludapp ? Awesome iPad/i...</td>\n",
       "      <td>iPad or iPhone App</td>\n",
       "      <td>Positive emotion</td>\n",
       "    </tr>\n",
       "    <tr>\n",
       "      <th>2</th>\n",
       "      <td>@swonderlin Can not wait for #iPad 2 also. The...</td>\n",
       "      <td>iPad</td>\n",
       "      <td>Positive emotion</td>\n",
       "    </tr>\n",
       "    <tr>\n",
       "      <th>3</th>\n",
       "      <td>@sxsw I hope this year's festival isn't as cra...</td>\n",
       "      <td>iPad or iPhone App</td>\n",
       "      <td>Negative emotion</td>\n",
       "    </tr>\n",
       "    <tr>\n",
       "      <th>4</th>\n",
       "      <td>@sxtxstate great stuff on Fri #SXSW: Marissa M...</td>\n",
       "      <td>Google</td>\n",
       "      <td>Positive emotion</td>\n",
       "    </tr>\n",
       "  </tbody>\n",
       "</table>\n",
       "</div>"
      ],
      "text/plain": [
       "                                          tweet_text  \\\n",
       "0  .@wesley83 I have a 3G iPhone. After 3 hrs twe...   \n",
       "1  @jessedee Know about @fludapp ? Awesome iPad/i...   \n",
       "2  @swonderlin Can not wait for #iPad 2 also. The...   \n",
       "3  @sxsw I hope this year's festival isn't as cra...   \n",
       "4  @sxtxstate great stuff on Fri #SXSW: Marissa M...   \n",
       "\n",
       "  emotion_in_tweet_is_directed_at  \\\n",
       "0                          iPhone   \n",
       "1              iPad or iPhone App   \n",
       "2                            iPad   \n",
       "3              iPad or iPhone App   \n",
       "4                          Google   \n",
       "\n",
       "  is_there_an_emotion_directed_at_a_brand_or_product  \n",
       "0                                   Negative emotion  \n",
       "1                                   Positive emotion  \n",
       "2                                   Positive emotion  \n",
       "3                                   Negative emotion  \n",
       "4                                   Positive emotion  "
      ]
     },
     "execution_count": 2,
     "metadata": {},
     "output_type": "execute_result"
    }
   ],
   "source": [
    "# loading and previewing data\n",
    "data = pd.read_csv('data.csv', encoding='ISO-8859-1')\n",
    "data.head()"
   ]
  },
  {
   "cell_type": "markdown",
   "id": "439beac0",
   "metadata": {},
   "source": [
    "### Statistic Describing the dataset"
   ]
  },
  {
   "cell_type": "code",
   "execution_count": 3,
   "id": "b3bbf7ae",
   "metadata": {},
   "outputs": [],
   "source": [
    "# class to describe dataset\n",
    "\n",
    "class Describer:\n",
    "    \n",
    "    # initialize object\n",
    "    def __init__(self, df):\n",
    "        self.df = df\n",
    "        \n",
    "    # method to check shape of data\n",
    "    def shape(self):\n",
    "        out = print(f\"The DataFrame has:\\n\\t* {self.df.shape[0]} rows\\n\\t* {self.df.shape[1]} columns\", '\\n')\n",
    "        return out\n",
    "    \n",
    "    # method to check info on dataset\n",
    "    def data_info(self):\n",
    "        out = print(self.df.info(), '\\n')\n",
    "        return out\n",
    "    \n",
    "    # method to describe numerical columns\n",
    "    def data_describe(self):\n",
    "        out = self.df.describe()\n",
    "        return out"
   ]
  },
  {
   "cell_type": "code",
   "execution_count": 4,
   "id": "19d7e176",
   "metadata": {},
   "outputs": [
    {
     "name": "stdout",
     "output_type": "stream",
     "text": [
      "The DataFrame has:\n",
      "\t* 9093 rows\n",
      "\t* 3 columns \n",
      "\n"
     ]
    }
   ],
   "source": [
    "# creating an instance of the class describer\n",
    "describe_df = Describer(data)\n",
    "\n",
    "# lets view the shape of the data\n",
    "describe_df.shape()"
   ]
  },
  {
   "cell_type": "code",
   "execution_count": 5,
   "id": "8a45e7ca",
   "metadata": {},
   "outputs": [
    {
     "name": "stdout",
     "output_type": "stream",
     "text": [
      "Summary infomation on dataset\n",
      "-----------------------------------------------\n",
      "<class 'pandas.core.frame.DataFrame'>\n",
      "RangeIndex: 9093 entries, 0 to 9092\n",
      "Data columns (total 3 columns):\n",
      " #   Column                                              Non-Null Count  Dtype \n",
      "---  ------                                              --------------  ----- \n",
      " 0   tweet_text                                          9092 non-null   object\n",
      " 1   emotion_in_tweet_is_directed_at                     3291 non-null   object\n",
      " 2   is_there_an_emotion_directed_at_a_brand_or_product  9093 non-null   object\n",
      "dtypes: object(3)\n",
      "memory usage: 213.2+ KB\n",
      "None \n",
      "\n"
     ]
    }
   ],
   "source": [
    "# lets print summary infomation on the dataset\n",
    "print('Summary infomation on dataset')\n",
    "print('-----------------------------------------------')\n",
    "describe_df.data_info()"
   ]
  },
  {
   "cell_type": "markdown",
   "id": "d2ab0e31",
   "metadata": {},
   "source": [
    "### Summary of Data Understanding"
   ]
  },
  {
   "cell_type": "markdown",
   "id": "0bb8c192",
   "metadata": {},
   "source": [
    "* The dataset has 3 columns  namely:tweet_text, emotion_in_tweet_is_directed_at ,is_there_an_emotion_directed_at_a_brand_or_product\n",
    "\n",
    "* The  dataset has 9093 rows\n",
    "\n",
    "* All the  dataset's columns  datatypes are objects"
   ]
  },
  {
   "cell_type": "markdown",
   "id": "7c904d28",
   "metadata": {},
   "source": [
    "## 3. Data Preparation \n",
    "#### Introduction\n",
    "\n",
    "We will be preparing our data for analysis by checking for attributes such as; \n",
    "\n",
    "> Missing values \n",
    "\n",
    "> Duplicates \n",
    "\n",
    "> Other inconsistencies as computed below"
   ]
  },
  {
   "cell_type": "markdown",
   "id": "e01ebf43",
   "metadata": {},
   "source": []
  },
  {
   "cell_type": "markdown",
   "id": "f5a9fc29",
   "metadata": {},
   "source": [
    "### Missing values"
   ]
  },
  {
   "cell_type": "code",
   "execution_count": 6,
   "id": "ba3d67ca",
   "metadata": {},
   "outputs": [
    {
     "name": "stdout",
     "output_type": "stream",
     "text": [
      "The Data has missing values.\n"
     ]
    }
   ],
   "source": [
    "# function to identify missing values\n",
    "\n",
    "# identify missing \n",
    "def identify_missing_values(data):\n",
    "    \"\"\"Identify is the data has missing values\"\"\"\n",
    "    # identify if data has missing values(data.isnull().any())\n",
    "    # empty dict to store missing values\n",
    "    missing = []\n",
    "    for i in data.isnull().any():\n",
    "        # add the bool values to empty list \n",
    "        missing.append(i)\n",
    "    # covert list to set (if data has missing value, the list should have true and false)\n",
    "    missing_set = set(missing)\n",
    "    if (len(missing_set) == 1):\n",
    "        out = print(\"The Data has no missing values\")\n",
    "    else:\n",
    "        out = print(\"The Data has missing values.\")\n",
    "\n",
    "    return out\n",
    "\n",
    "identify_missing_values(data)"
   ]
  },
  {
   "cell_type": "code",
   "execution_count": 7,
   "id": "26ea8d1d",
   "metadata": {},
   "outputs": [
    {
     "data": {
      "text/html": [
       "<div>\n",
       "<style scoped>\n",
       "    .dataframe tbody tr th:only-of-type {\n",
       "        vertical-align: middle;\n",
       "    }\n",
       "\n",
       "    .dataframe tbody tr th {\n",
       "        vertical-align: top;\n",
       "    }\n",
       "\n",
       "    .dataframe thead th {\n",
       "        text-align: right;\n",
       "    }\n",
       "</style>\n",
       "<table border=\"1\" class=\"dataframe\">\n",
       "  <thead>\n",
       "    <tr style=\"text-align: right;\">\n",
       "      <th></th>\n",
       "      <th>Missing Values</th>\n",
       "      <th>Percentage(%)</th>\n",
       "    </tr>\n",
       "  </thead>\n",
       "  <tbody>\n",
       "    <tr>\n",
       "      <th>emotion_in_tweet_is_directed_at</th>\n",
       "      <td>5802</td>\n",
       "      <td>0.638073</td>\n",
       "    </tr>\n",
       "    <tr>\n",
       "      <th>tweet_text</th>\n",
       "      <td>1</td>\n",
       "      <td>0.000110</td>\n",
       "    </tr>\n",
       "  </tbody>\n",
       "</table>\n",
       "</div>"
      ],
      "text/plain": [
       "                                 Missing Values  Percentage(%)\n",
       "emotion_in_tweet_is_directed_at            5802       0.638073\n",
       "tweet_text                                    1       0.000110"
      ]
     },
     "execution_count": 7,
     "metadata": {},
     "output_type": "execute_result"
    }
   ],
   "source": [
    "# function to display missing values\n",
    "\n",
    "def missing_values(data):\n",
    "    \"\"\"A simple function to identify data has missing values\"\"\"\n",
    "    # identify the total missing values per column\n",
    "    # sort in order \n",
    "    miss = data.isnull().sum().sort_values(ascending = False)\n",
    "\n",
    "    # calculate percentage of the missing values\n",
    "    percentage_miss = (data.isnull().sum() / len(data)).sort_values(ascending = False)\n",
    "\n",
    "    # store in a dataframe \n",
    "    missing = pd.DataFrame({\"Missing Values\": miss, \"Percentage(%)\": percentage_miss})\n",
    "\n",
    "    # remove values that are missing \n",
    "    missing.drop(missing[missing[\"Percentage(%)\"] == 0].index, inplace = True)\n",
    "\n",
    "    return missing\n",
    "\n",
    "\n",
    "missing_values(data)\n"
   ]
  },
  {
   "cell_type": "code",
   "execution_count": 8,
   "id": "14b8f3c1",
   "metadata": {},
   "outputs": [],
   "source": [
    "# dropping missing row in tweet_text\n",
    "\n",
    "data.dropna(axis=0,subset=['tweet_text'],inplace=True)"
   ]
  },
  {
   "cell_type": "code",
   "execution_count": 9,
   "id": "388a53a7",
   "metadata": {},
   "outputs": [
    {
     "data": {
      "text/plain": [
       "tweet_text                                            False\n",
       "emotion_in_tweet_is_directed_at                        True\n",
       "is_there_an_emotion_directed_at_a_brand_or_product    False\n",
       "dtype: bool"
      ]
     },
     "execution_count": 9,
     "metadata": {},
     "output_type": "execute_result"
    }
   ],
   "source": [
    "# confirmation\n",
    "data.isna().any()"
   ]
  },
  {
   "cell_type": "code",
   "execution_count": 10,
   "id": "3864831f",
   "metadata": {},
   "outputs": [],
   "source": [
    "# replacing null values in recipient with none\n",
    "data['emotion_in_tweet_is_directed_at'].fillna('none', inplace =True)"
   ]
  },
  {
   "cell_type": "code",
   "execution_count": 11,
   "id": "8c099f47",
   "metadata": {},
   "outputs": [
    {
     "data": {
      "text/plain": [
       "none                               5801\n",
       "iPad                                946\n",
       "Apple                               661\n",
       "iPad or iPhone App                  470\n",
       "Google                              430\n",
       "iPhone                              297\n",
       "Other Google product or service     293\n",
       "Android App                          81\n",
       "Android                              78\n",
       "Other Apple product or service       35\n",
       "Name: emotion_in_tweet_is_directed_at, dtype: int64"
      ]
     },
     "execution_count": 11,
     "metadata": {},
     "output_type": "execute_result"
    }
   ],
   "source": [
    "#confirming we replaced the 'nan' with 'none'\n",
    "data['emotion_in_tweet_is_directed_at'].value_counts()"
   ]
  },
  {
   "cell_type": "code",
   "execution_count": 12,
   "id": "70f16edb",
   "metadata": {},
   "outputs": [
    {
     "data": {
      "text/plain": [
       "tweet_text                                            False\n",
       "emotion_in_tweet_is_directed_at                       False\n",
       "is_there_an_emotion_directed_at_a_brand_or_product    False\n",
       "dtype: bool"
      ]
     },
     "execution_count": 12,
     "metadata": {},
     "output_type": "execute_result"
    }
   ],
   "source": [
    "data.isna().any()"
   ]
  },
  {
   "cell_type": "markdown",
   "id": "9da499f0",
   "metadata": {},
   "source": [
    "####  Justification\n",
    "\n",
    "* We discovered that there is ```0.01%``` missing values in **tweet_text** column and  ```63.81%``` missing values in **emotion_in_tweet_is_directed_at** column.\n",
    "\n",
    "* We replaced the missing values in the ```emotion tweet is directed at column``` with none for computational purposes and dropped the missing valuesin the ```tweet text```   column"
   ]
  },
  {
   "cell_type": "markdown",
   "id": "856aa839",
   "metadata": {},
   "source": [
    "### Duplicates"
   ]
  },
  {
   "cell_type": "code",
   "execution_count": 13,
   "id": "057e472f",
   "metadata": {},
   "outputs": [
    {
     "name": "stdout",
     "output_type": "stream",
     "text": [
      "The Data has 22 duplicated rows.\n",
      "This constitutes 0.242% of the data set.\n"
     ]
    }
   ],
   "source": [
    "# checking for duplicates\n",
    "\n",
    "# Duplicated entries\n",
    "def identify_duplicates(data):\n",
    "    \"\"\"Simple function to identify any duplicates\"\"\"\n",
    "    # identify the duplicates (dataframename.duplicated() , can add .sum() to get total count)\n",
    "    # empty list to store Bool results from duplicated\n",
    "    duplicates = []\n",
    "    for i in data.duplicated():\n",
    "        duplicates.append(i)\n",
    "    # identify if there is any duplicates. (If there is any we expect a True value in the list duplicates)\n",
    "    duplicates_set = set(duplicates) \n",
    "    if (len(duplicates_set) == 1):\n",
    "        print(\"The Data has no duplicates\")\n",
    "    else:\n",
    "        no_true = 0\n",
    "        for val in duplicates:\n",
    "            if (val == True):\n",
    "                no_true += 1\n",
    "        # percentage of the data represented by duplicates \n",
    "        duplicates_percentage = np.round(((no_true / len(data)) * 100), 3)\n",
    "        print(f\"The Data has {no_true} duplicated rows.\\nThis constitutes {duplicates_percentage}% of the data set.\") \n",
    "\n",
    "\n",
    "\n",
    "identify_duplicates(data)"
   ]
  },
  {
   "cell_type": "code",
   "execution_count": 14,
   "id": "e82a1340",
   "metadata": {},
   "outputs": [
    {
     "data": {
      "text/plain": [
       "22"
      ]
     },
     "execution_count": 14,
     "metadata": {},
     "output_type": "execute_result"
    }
   ],
   "source": [
    "data.duplicated().sum()"
   ]
  },
  {
   "cell_type": "code",
   "execution_count": 15,
   "id": "65c8b1e8",
   "metadata": {},
   "outputs": [
    {
     "name": "stdout",
     "output_type": "stream",
     "text": [
      "The Data has no duplicates\n"
     ]
    }
   ],
   "source": [
    "# handling the duplicates \n",
    "def remove_duplicated_rows(data):\n",
    "    \"\"\"Simple Function to remove duplicated rows\"\"\"\n",
    "    data.drop_duplicates(subset=None, keep=\"first\", inplace=True)\n",
    "    # confirm if the duplicated rows have been removed\n",
    "    confirm = identify_duplicates(data)\n",
    "\n",
    "    return confirm \n",
    "\n",
    "\n",
    "remove_duplicated_rows(data)"
   ]
  },
  {
   "cell_type": "markdown",
   "id": "682ebcba",
   "metadata": {},
   "source": [
    "#### Summary\n",
    "\n",
    "> We found out that the **tweet text** column had 22 duplicates ```( 0.242% )``` and went ahead and  dropped  them."
   ]
  },
  {
   "cell_type": "markdown",
   "id": "19360b64",
   "metadata": {},
   "source": [
    "### Renaming long column names "
   ]
  },
  {
   "cell_type": "code",
   "execution_count": 16,
   "id": "51a67aed",
   "metadata": {},
   "outputs": [
    {
     "data": {
      "text/html": [
       "<div>\n",
       "<style scoped>\n",
       "    .dataframe tbody tr th:only-of-type {\n",
       "        vertical-align: middle;\n",
       "    }\n",
       "\n",
       "    .dataframe tbody tr th {\n",
       "        vertical-align: top;\n",
       "    }\n",
       "\n",
       "    .dataframe thead th {\n",
       "        text-align: right;\n",
       "    }\n",
       "</style>\n",
       "<table border=\"1\" class=\"dataframe\">\n",
       "  <thead>\n",
       "    <tr style=\"text-align: right;\">\n",
       "      <th></th>\n",
       "      <th>tweet_text</th>\n",
       "      <th>recipient</th>\n",
       "      <th>emotion</th>\n",
       "    </tr>\n",
       "  </thead>\n",
       "  <tbody>\n",
       "    <tr>\n",
       "      <th>0</th>\n",
       "      <td>.@wesley83 I have a 3G iPhone. After 3 hrs twe...</td>\n",
       "      <td>iPhone</td>\n",
       "      <td>Negative emotion</td>\n",
       "    </tr>\n",
       "    <tr>\n",
       "      <th>1</th>\n",
       "      <td>@jessedee Know about @fludapp ? Awesome iPad/i...</td>\n",
       "      <td>iPad or iPhone App</td>\n",
       "      <td>Positive emotion</td>\n",
       "    </tr>\n",
       "    <tr>\n",
       "      <th>2</th>\n",
       "      <td>@swonderlin Can not wait for #iPad 2 also. The...</td>\n",
       "      <td>iPad</td>\n",
       "      <td>Positive emotion</td>\n",
       "    </tr>\n",
       "    <tr>\n",
       "      <th>3</th>\n",
       "      <td>@sxsw I hope this year's festival isn't as cra...</td>\n",
       "      <td>iPad or iPhone App</td>\n",
       "      <td>Negative emotion</td>\n",
       "    </tr>\n",
       "    <tr>\n",
       "      <th>4</th>\n",
       "      <td>@sxtxstate great stuff on Fri #SXSW: Marissa M...</td>\n",
       "      <td>Google</td>\n",
       "      <td>Positive emotion</td>\n",
       "    </tr>\n",
       "  </tbody>\n",
       "</table>\n",
       "</div>"
      ],
      "text/plain": [
       "                                          tweet_text           recipient  \\\n",
       "0  .@wesley83 I have a 3G iPhone. After 3 hrs twe...              iPhone   \n",
       "1  @jessedee Know about @fludapp ? Awesome iPad/i...  iPad or iPhone App   \n",
       "2  @swonderlin Can not wait for #iPad 2 also. The...                iPad   \n",
       "3  @sxsw I hope this year's festival isn't as cra...  iPad or iPhone App   \n",
       "4  @sxtxstate great stuff on Fri #SXSW: Marissa M...              Google   \n",
       "\n",
       "            emotion  \n",
       "0  Negative emotion  \n",
       "1  Positive emotion  \n",
       "2  Positive emotion  \n",
       "3  Negative emotion  \n",
       "4  Positive emotion  "
      ]
     },
     "execution_count": 16,
     "metadata": {},
     "output_type": "execute_result"
    }
   ],
   "source": [
    "# renaming the columns\n",
    "data = data.rename(columns={'emotion_in_tweet_is_directed_at':'recipient',\n",
    "                    'is_there_an_emotion_directed_at_a_brand_or_product':'emotion'})\n",
    "data.head()"
   ]
  },
  {
   "cell_type": "markdown",
   "id": "b852207b",
   "metadata": {},
   "source": [
    "#### Justification\n",
    "\n",
    "We renamed  the column ```emotion_in_tweet_is_directed_at``` to ```recipient``` and the column ```is_there_an_emotion_directed_at_a_brand_or_product``` to ```emotion``` to enhance clarity and facilitate their usage in our subsequent computation"
   ]
  },
  {
   "cell_type": "markdown",
   "id": "f73748ca",
   "metadata": {},
   "source": [
    "\n",
    "## 4. Exploratory Data Analysis (EDA)\n",
    "\n",
    "#### Introduction\n",
    "\n",
    "We  will conduct Univariate and Bivariate analysis of the sentiments and create visualizations to see how they relate with each other and individually."
   ]
  },
  {
   "cell_type": "markdown",
   "id": "a1e46472",
   "metadata": {},
   "source": [
    "### Univariate analysis\n",
    "We will plot a count plot to show the distribution of the column 'emotion'"
   ]
  },
  {
   "cell_type": "code",
   "execution_count": 17,
   "id": "c9df41fc",
   "metadata": {},
   "outputs": [
    {
     "name": "stdout",
     "output_type": "stream",
     "text": [
      "No emotion toward brand or product    59.261301\n",
      "Positive emotion                      32.745314\n",
      "Negative emotion                       6.273429\n",
      "I can't tell                           1.719956\n",
      "Name: emotion, dtype: float64\n"
     ]
    },
    {
     "data": {
      "image/png": "[encoded data removed]",
      "text/plain": [
       "<Figure size 864x504 with 1 Axes>"
      ]
     },
     "metadata": {
      "needs_background": "light"
     },
     "output_type": "display_data"
    }
   ],
   "source": [
    "# checking the distribution of emotions\n",
    "percentage = data['emotion'].value_counts(normalize=True)\n",
    "print(percentage * 100)\n",
    "\n",
    "# count plot\n",
    "plt.figure(figsize=(12, 7))\n",
    "sns.countplot(data['emotion'])\n",
    "plt.title('Emotion Distribution Count')\n",
    "plt.show();"
   ]
  },
  {
   "cell_type": "markdown",
   "id": "fadc50b8",
   "metadata": {},
   "source": [
    "# Observation\n",
    "\n",
    "We see that majority of  people had  ```No emotion toward brand or product``` at ```59.26%``` followed by people with ```Positive emotions ``` at ```32.75%```\n",
    "\n",
    "```I can't tell``` makes up less than ```2%``` of our dataset, and doesn't offer much more information in the way of word significance than the tweets labeled No emotion toward brand or product."
   ]
  },
  {
   "cell_type": "markdown",
   "id": "7961af67",
   "metadata": {},
   "source": [
    "### Bivariate analysis\n",
    "We plot a bar plot to visualize the distribution of sentiments'emotion' relative to the recipient"
   ]
  },
  {
   "cell_type": "code",
   "execution_count": 18,
   "id": "cc595478",
   "metadata": {},
   "outputs": [
    {
     "data": {
      "image/png": "[encoded data removed]",
      "text/plain": [
       "<Figure size 1512x504 with 1 Axes>"
      ]
     },
     "metadata": {
      "needs_background": "light"
     },
     "output_type": "display_data"
    }
   ],
   "source": [
    "# let's see sentiment distribution product-wise\n",
    "recipient_group = data.groupby('recipient')['emotion'].value_counts().reset_index(name='count')\n",
    "# Calculate the ascending order of states based on churn count\n",
    "ascending_order = recipient_group.groupby('recipient')['count'].sum().sort_values().index\n",
    "\n",
    "plt.figure(figsize=(21,7))\n",
    "sns.barplot(x='recipient', y='count', hue='emotion', data=recipient_group, order=ascending_order)\n",
    "plt.xlabel('recipients')\n",
    "plt.ylabel('Count')\n",
    "plt.title('Sentiment Count Distribution')\n",
    "plt.show()"
   ]
  },
  {
   "cell_type": "markdown",
   "id": "a7b76296",
   "metadata": {},
   "source": [
    "## Interpretation\n",
    "\n",
    "From the graph above  ```Ipad```  had the ```highest positive emotions``` followed by ```Apple```\n",
    "\n",
    "From the observation above since we similar product brand names we will map products to their brand \n",
    "### Mapping products to Brands "
   ]
  },
  {
   "cell_type": "code",
   "execution_count": 19,
   "id": "a90f96ee",
   "metadata": {},
   "outputs": [
    {
     "data": {
      "text/plain": [
       "none                               5788\n",
       "iPad                                945\n",
       "Apple                               659\n",
       "iPad or iPhone App                  469\n",
       "Google                              428\n",
       "iPhone                              296\n",
       "Other Google product or service     293\n",
       "Android App                          80\n",
       "Android                              77\n",
       "Other Apple product or service       35\n",
       "Name: recipient, dtype: int64"
      ]
     },
     "execution_count": 19,
     "metadata": {},
     "output_type": "execute_result"
    }
   ],
   "source": [
    "#What are value counts of recipient column\n",
    "data['recipient'].value_counts()"
   ]
  },
  {
   "cell_type": "code",
   "execution_count": 20,
   "id": "d83501c1",
   "metadata": {},
   "outputs": [],
   "source": [
    "# overall brand distribution\n",
    "# feature engineering\n",
    "data['brand'] = data['recipient'].map({'Other Apple product or service': 'Apple', \n",
    "                                           'Android': 'Google',\n",
    "                                           'Android App': 'Google',\n",
    "                                           'Other Google product or service ': 'Google',\n",
    "                                           'iPhone': 'Apple', \n",
    "                                           'Google':'Google',\n",
    "                                           'iPad or iPhone App': 'Apple',\n",
    "                                           'Apple':'Apple',\n",
    "                                           'iPad':'Apple',\n",
    "                                           'none': 'none'})\n",
    "\n"
   ]
  },
  {
   "cell_type": "code",
   "execution_count": 21,
   "id": "89be0a18",
   "metadata": {
    "scrolled": true
   },
   "outputs": [
    {
     "data": {
      "text/html": [
       "<div>\n",
       "<style scoped>\n",
       "    .dataframe tbody tr th:only-of-type {\n",
       "        vertical-align: middle;\n",
       "    }\n",
       "\n",
       "    .dataframe tbody tr th {\n",
       "        vertical-align: top;\n",
       "    }\n",
       "\n",
       "    .dataframe thead th {\n",
       "        text-align: right;\n",
       "    }\n",
       "</style>\n",
       "<table border=\"1\" class=\"dataframe\">\n",
       "  <thead>\n",
       "    <tr style=\"text-align: right;\">\n",
       "      <th></th>\n",
       "      <th>tweet_text</th>\n",
       "      <th>recipient</th>\n",
       "      <th>emotion</th>\n",
       "      <th>brand</th>\n",
       "    </tr>\n",
       "  </thead>\n",
       "  <tbody>\n",
       "    <tr>\n",
       "      <th>0</th>\n",
       "      <td>.@wesley83 I have a 3G iPhone. After 3 hrs twe...</td>\n",
       "      <td>iPhone</td>\n",
       "      <td>Negative emotion</td>\n",
       "      <td>Apple</td>\n",
       "    </tr>\n",
       "    <tr>\n",
       "      <th>1</th>\n",
       "      <td>@jessedee Know about @fludapp ? Awesome iPad/i...</td>\n",
       "      <td>iPad or iPhone App</td>\n",
       "      <td>Positive emotion</td>\n",
       "      <td>Apple</td>\n",
       "    </tr>\n",
       "    <tr>\n",
       "      <th>2</th>\n",
       "      <td>@swonderlin Can not wait for #iPad 2 also. The...</td>\n",
       "      <td>iPad</td>\n",
       "      <td>Positive emotion</td>\n",
       "      <td>Apple</td>\n",
       "    </tr>\n",
       "  </tbody>\n",
       "</table>\n",
       "</div>"
      ],
      "text/plain": [
       "                                          tweet_text           recipient  \\\n",
       "0  .@wesley83 I have a 3G iPhone. After 3 hrs twe...              iPhone   \n",
       "1  @jessedee Know about @fludapp ? Awesome iPad/i...  iPad or iPhone App   \n",
       "2  @swonderlin Can not wait for #iPad 2 also. The...                iPad   \n",
       "\n",
       "            emotion  brand  \n",
       "0  Negative emotion  Apple  \n",
       "1  Positive emotion  Apple  \n",
       "2  Positive emotion  Apple  "
      ]
     },
     "execution_count": 21,
     "metadata": {},
     "output_type": "execute_result"
    }
   ],
   "source": [
    "# confirm brand column \n",
    "data.head(3)"
   ]
  },
  {
   "cell_type": "markdown",
   "id": "76b24303",
   "metadata": {},
   "source": [
    "### Plot brand Distributions \n",
    "\n",
    "#### Univariate Analysis "
   ]
  },
  {
   "cell_type": "code",
   "execution_count": 22,
   "id": "8d5b377e",
   "metadata": {},
   "outputs": [
    {
     "name": "stdout",
     "output_type": "stream",
     "text": [
      "none      65.945084\n",
      "Apple     27.389769\n",
      "Google     6.665148\n",
      "Name: brand, dtype: float64\n"
     ]
    },
    {
     "data": {
      "image/png": "[encoded data removed]",
      "text/plain": [
       "<Figure size 864x504 with 1 Axes>"
      ]
     },
     "metadata": {
      "needs_background": "light"
     },
     "output_type": "display_data"
    }
   ],
   "source": [
    "# checking the distribution of brand sentiment\n",
    "percentage = data['brand'].value_counts(normalize=True)\n",
    "print(percentage * 100)\n",
    "\n",
    "# count plot\n",
    "plt.figure(figsize=(12, 7))\n",
    "sns.countplot(data['brand'])\n",
    "plt.title('Brand Distribution')\n",
    "plt.show();"
   ]
  },
  {
   "cell_type": "markdown",
   "id": "f9b7e304",
   "metadata": {},
   "source": [
    "## ***Insight***\n",
    "\n",
    "From the graph above Majority of people had not specified the brand, and for those who did, ```Apple``` had the highest brand feedback as compared to ```Google```\n",
    "\n",
    "## ***Bivariate analysis***\n",
    "We plot a bar plot to visualize the distribution of sentiments ***'emotion'*** relative to the ***Brand*** "
   ]
  },
  {
   "cell_type": "code",
   "execution_count": 23,
   "id": "46b041ee",
   "metadata": {},
   "outputs": [
    {
     "data": {
      "image/png": "[encoded data removed]",
      "text/plain": [
       "<Figure size 1512x504 with 1 Axes>"
      ]
     },
     "metadata": {
      "needs_background": "light"
     },
     "output_type": "display_data"
    }
   ],
   "source": [
    "# lets see see sentiment distribution brand-wise\n",
    "brand_group = data.groupby('brand')['emotion'].value_counts().reset_index(name='count')\n",
    "# Calculate the ascending order of states based on churn count\n",
    "ascending_order = brand_group.groupby('brand')['count'].sum().sort_values().index\n",
    "\n",
    "plt.figure(figsize=(21,7))\n",
    "sns.barplot(x='brand', y='count', hue='emotion', data=brand_group, order=ascending_order)\n",
    "plt.xlabel('brand')\n",
    "plt.ylabel('Count')\n",
    "plt.title('Sentiment Count Distribution')\n",
    "plt.show()"
   ]
  },
  {
   "cell_type": "markdown",
   "id": "ad3f94e9",
   "metadata": {},
   "source": [
    "## ***Interpretation***\n",
    "\n",
    "From the graph above ```Apple``` had the highest ```positive emotions``` compared to ```Google```"
   ]
  },
  {
   "cell_type": "markdown",
   "id": "ee1324e4",
   "metadata": {},
   "source": [
    "## 5. Preprocessing\n",
    "\n",
    "###  **Introduction**\n",
    "\n",
    "In this section we will; \n",
    "\n",
    "* Convert the tweet text to lower case\n",
    "* Remove html tags \n",
    "* Remove the Url \n",
    "* Expand the contractions \n",
    "* Remove the punctuations\n",
    "* Tokenize\n",
    "* Remove stopwords \n",
    "* Lemmatize the tweet\n",
    "\n",
    "So as to prepare the data for modeling."
   ]
  },
  {
   "cell_type": "code",
   "execution_count": 24,
   "id": "ef8ac99b",
   "metadata": {},
   "outputs": [
    {
     "data": {
      "text/plain": [
       "Index(['tweet_text', 'recipient', 'emotion', 'brand'], dtype='object')"
      ]
     },
     "execution_count": 24,
     "metadata": {},
     "output_type": "execute_result"
    }
   ],
   "source": [
    "# what are the columns?\n",
    "data.columns"
   ]
  },
  {
   "cell_type": "markdown",
   "id": "aca21ef4",
   "metadata": {},
   "source": [
    "### Changing text to lowercase"
   ]
  },
  {
   "cell_type": "code",
   "execution_count": 25,
   "id": "6d3c400b",
   "metadata": {},
   "outputs": [
    {
     "data": {
      "text/html": [
       "<div>\n",
       "<style scoped>\n",
       "    .dataframe tbody tr th:only-of-type {\n",
       "        vertical-align: middle;\n",
       "    }\n",
       "\n",
       "    .dataframe tbody tr th {\n",
       "        vertical-align: top;\n",
       "    }\n",
       "\n",
       "    .dataframe thead th {\n",
       "        text-align: right;\n",
       "    }\n",
       "</style>\n",
       "<table border=\"1\" class=\"dataframe\">\n",
       "  <thead>\n",
       "    <tr style=\"text-align: right;\">\n",
       "      <th></th>\n",
       "      <th>tweet_text</th>\n",
       "      <th>recipient</th>\n",
       "      <th>emotion</th>\n",
       "      <th>brand</th>\n",
       "    </tr>\n",
       "  </thead>\n",
       "  <tbody>\n",
       "    <tr>\n",
       "      <th>0</th>\n",
       "      <td>.@wesley83 i have a 3g iphone. after 3 hrs twe...</td>\n",
       "      <td>iPhone</td>\n",
       "      <td>Negative emotion</td>\n",
       "      <td>Apple</td>\n",
       "    </tr>\n",
       "    <tr>\n",
       "      <th>1</th>\n",
       "      <td>@jessedee know about @fludapp ? awesome ipad/i...</td>\n",
       "      <td>iPad or iPhone App</td>\n",
       "      <td>Positive emotion</td>\n",
       "      <td>Apple</td>\n",
       "    </tr>\n",
       "  </tbody>\n",
       "</table>\n",
       "</div>"
      ],
      "text/plain": [
       "                                          tweet_text           recipient  \\\n",
       "0  .@wesley83 i have a 3g iphone. after 3 hrs twe...              iPhone   \n",
       "1  @jessedee know about @fludapp ? awesome ipad/i...  iPad or iPhone App   \n",
       "\n",
       "            emotion  brand  \n",
       "0  Negative emotion  Apple  \n",
       "1  Positive emotion  Apple  "
      ]
     },
     "execution_count": 25,
     "metadata": {},
     "output_type": "execute_result"
    }
   ],
   "source": [
    "# normalizing the data to lowecase\n",
    "data['tweet_text'] = data['tweet_text'].str.lower()\n",
    "data.head(2)"
   ]
  },
  {
   "cell_type": "markdown",
   "id": "f7818023",
   "metadata": {},
   "source": [
    "### Removing Html tags and URL"
   ]
  },
  {
   "cell_type": "code",
   "execution_count": 26,
   "id": "5e6aace6",
   "metadata": {},
   "outputs": [
    {
     "data": {
      "text/plain": [
       "'great #sxsw ipad app from @madebymany: http://tinyurl.com/4nqv92l'"
      ]
     },
     "execution_count": 26,
     "metadata": {},
     "output_type": "execute_result"
    }
   ],
   "source": [
    "#Identifying Html tag \n",
    "data['tweet_text'][14]"
   ]
  },
  {
   "cell_type": "code",
   "execution_count": 27,
   "id": "9a4af54f",
   "metadata": {},
   "outputs": [],
   "source": [
    "# removing the html tags\n",
    "def remove_html(review):\n",
    "    pattern = re.compile('<.*?>')\n",
    "    return pattern.sub(r'', review)\n",
    "\n",
    "data['tweet_text'] = data['tweet_text'].apply(remove_html)"
   ]
  },
  {
   "cell_type": "code",
   "execution_count": 28,
   "id": "71038965",
   "metadata": {},
   "outputs": [],
   "source": [
    "# removing URL and @ sign\n",
    "def preprocess_text_removingq_URLand_atsign(text):\n",
    "    # Remove URLs\n",
    "    clean_text = re.sub(r\"http\\S+|www\\S+|https\\S+\", \"\", text)\n",
    "    text = re.sub(r'@[^\\s]+', 'user', clean_text)\n",
    "    # Other preprocessing steps like removing punctuation, converting to lowercase, etc.\n",
    "    # ...\n",
    "    return text\n",
    "\n",
    "data['tweet_text'] = data['tweet_text'].apply(preprocess_text_removingq_URLand_atsign)"
   ]
  },
  {
   "cell_type": "code",
   "execution_count": 29,
   "id": "9e2944c4",
   "metadata": {},
   "outputs": [
    {
     "data": {
      "text/plain": [
       "'great #sxsw ipad app from user '"
      ]
     },
     "execution_count": 29,
     "metadata": {},
     "output_type": "execute_result"
    }
   ],
   "source": [
    "#lets confirm the url has been replaced with an empty\n",
    "data['tweet_text'][14]"
   ]
  },
  {
   "cell_type": "code",
   "execution_count": 30,
   "id": "567ab7a4",
   "metadata": {},
   "outputs": [
    {
     "data": {
      "text/html": [
       "<div>\n",
       "<style scoped>\n",
       "    .dataframe tbody tr th:only-of-type {\n",
       "        vertical-align: middle;\n",
       "    }\n",
       "\n",
       "    .dataframe tbody tr th {\n",
       "        vertical-align: top;\n",
       "    }\n",
       "\n",
       "    .dataframe thead th {\n",
       "        text-align: right;\n",
       "    }\n",
       "</style>\n",
       "<table border=\"1\" class=\"dataframe\">\n",
       "  <thead>\n",
       "    <tr style=\"text-align: right;\">\n",
       "      <th></th>\n",
       "      <th>tweet_text</th>\n",
       "      <th>recipient</th>\n",
       "      <th>emotion</th>\n",
       "      <th>brand</th>\n",
       "    </tr>\n",
       "  </thead>\n",
       "  <tbody>\n",
       "    <tr>\n",
       "      <th>0</th>\n",
       "      <td>.user i have a 3g iphone. after 3 hrs tweeting...</td>\n",
       "      <td>iPhone</td>\n",
       "      <td>Negative emotion</td>\n",
       "      <td>Apple</td>\n",
       "    </tr>\n",
       "    <tr>\n",
       "      <th>1</th>\n",
       "      <td>user know about user ? awesome ipad/iphone app...</td>\n",
       "      <td>iPad or iPhone App</td>\n",
       "      <td>Positive emotion</td>\n",
       "      <td>Apple</td>\n",
       "    </tr>\n",
       "    <tr>\n",
       "      <th>2</th>\n",
       "      <td>user can not wait for #ipad 2 also. they shoul...</td>\n",
       "      <td>iPad</td>\n",
       "      <td>Positive emotion</td>\n",
       "      <td>Apple</td>\n",
       "    </tr>\n",
       "    <tr>\n",
       "      <th>3</th>\n",
       "      <td>user i hope this year's festival isn't as cras...</td>\n",
       "      <td>iPad or iPhone App</td>\n",
       "      <td>Negative emotion</td>\n",
       "      <td>Apple</td>\n",
       "    </tr>\n",
       "    <tr>\n",
       "      <th>4</th>\n",
       "      <td>user great stuff on fri #sxsw: marissa mayer (...</td>\n",
       "      <td>Google</td>\n",
       "      <td>Positive emotion</td>\n",
       "      <td>Google</td>\n",
       "    </tr>\n",
       "  </tbody>\n",
       "</table>\n",
       "</div>"
      ],
      "text/plain": [
       "                                          tweet_text           recipient  \\\n",
       "0  .user i have a 3g iphone. after 3 hrs tweeting...              iPhone   \n",
       "1  user know about user ? awesome ipad/iphone app...  iPad or iPhone App   \n",
       "2  user can not wait for #ipad 2 also. they shoul...                iPad   \n",
       "3  user i hope this year's festival isn't as cras...  iPad or iPhone App   \n",
       "4  user great stuff on fri #sxsw: marissa mayer (...              Google   \n",
       "\n",
       "            emotion   brand  \n",
       "0  Negative emotion   Apple  \n",
       "1  Positive emotion   Apple  \n",
       "2  Positive emotion   Apple  \n",
       "3  Negative emotion   Apple  \n",
       "4  Positive emotion  Google  "
      ]
     },
     "execution_count": 30,
     "metadata": {},
     "output_type": "execute_result"
    }
   ],
   "source": [
    "data.head()"
   ]
  },
  {
   "cell_type": "markdown",
   "id": "fe6dbb28",
   "metadata": {},
   "source": [
    "### Expanding Words\n",
    "We convert abbreviated words to their full form "
   ]
  },
  {
   "cell_type": "code",
   "execution_count": 31,
   "id": "607c0108",
   "metadata": {},
   "outputs": [],
   "source": [
    "# expanding the contractions (is-nots)\n",
    "import contractions\n",
    "#from nltk.stem import WordNetLemmatizer\n",
    "\n",
    "def expand(text):\n",
    "    # Expand contractions\n",
    "    expanded_text = contractions.fix(text)\n",
    "\n",
    "    return expanded_text\n",
    "\n",
    "data['tweet_text'] = data['tweet_text'].apply(expand)"
   ]
  },
  {
   "cell_type": "code",
   "execution_count": 32,
   "id": "b5d27e22",
   "metadata": {},
   "outputs": [
    {
     "data": {
      "text/plain": [
       "\"user i hope this year's festival is not as crashy as this year's iphone app. #sxsw\""
      ]
     },
     "execution_count": 32,
     "metadata": {},
     "output_type": "execute_result"
    }
   ],
   "source": [
    "data.tweet_text[3]"
   ]
  },
  {
   "cell_type": "markdown",
   "id": "c4c5da12",
   "metadata": {},
   "source": [
    "### Removing Punctuations\n"
   ]
  },
  {
   "cell_type": "code",
   "execution_count": 33,
   "id": "012eb890",
   "metadata": {},
   "outputs": [
    {
     "name": "stdout",
     "output_type": "stream",
     "text": [
      "!\"#$%&'()*+,-./:;<=>?@[\\]^_`{|}~\n"
     ]
    }
   ],
   "source": [
    "# punctuation\n",
    "exclude = string.punctuation\n",
    "print(exclude)"
   ]
  },
  {
   "cell_type": "code",
   "execution_count": 34,
   "id": "0468dfe6",
   "metadata": {},
   "outputs": [],
   "source": [
    "# remove punctuations\n",
    "def remove_punctuations(tweet):\n",
    "    return tweet.translate(str.maketrans('','',exclude))"
   ]
  },
  {
   "cell_type": "code",
   "execution_count": 35,
   "id": "223a8f7a",
   "metadata": {},
   "outputs": [
    {
     "data": {
      "text/html": [
       "<div>\n",
       "<style scoped>\n",
       "    .dataframe tbody tr th:only-of-type {\n",
       "        vertical-align: middle;\n",
       "    }\n",
       "\n",
       "    .dataframe tbody tr th {\n",
       "        vertical-align: top;\n",
       "    }\n",
       "\n",
       "    .dataframe thead th {\n",
       "        text-align: right;\n",
       "    }\n",
       "</style>\n",
       "<table border=\"1\" class=\"dataframe\">\n",
       "  <thead>\n",
       "    <tr style=\"text-align: right;\">\n",
       "      <th></th>\n",
       "      <th>tweet_text</th>\n",
       "      <th>recipient</th>\n",
       "      <th>emotion</th>\n",
       "      <th>brand</th>\n",
       "    </tr>\n",
       "  </thead>\n",
       "  <tbody>\n",
       "    <tr>\n",
       "      <th>0</th>\n",
       "      <td>user i have a 3g iphone after 3 hrs tweeting a...</td>\n",
       "      <td>iPhone</td>\n",
       "      <td>Negative emotion</td>\n",
       "      <td>Apple</td>\n",
       "    </tr>\n",
       "    <tr>\n",
       "      <th>1</th>\n",
       "      <td>user know about user  awesome ipadiphone app t...</td>\n",
       "      <td>iPad or iPhone App</td>\n",
       "      <td>Positive emotion</td>\n",
       "      <td>Apple</td>\n",
       "    </tr>\n",
       "    <tr>\n",
       "      <th>2</th>\n",
       "      <td>user can not wait for ipad 2 also they should ...</td>\n",
       "      <td>iPad</td>\n",
       "      <td>Positive emotion</td>\n",
       "      <td>Apple</td>\n",
       "    </tr>\n",
       "    <tr>\n",
       "      <th>3</th>\n",
       "      <td>user i hope this years festival is not as cras...</td>\n",
       "      <td>iPad or iPhone App</td>\n",
       "      <td>Negative emotion</td>\n",
       "      <td>Apple</td>\n",
       "    </tr>\n",
       "    <tr>\n",
       "      <th>4</th>\n",
       "      <td>user great stuff on fri sxsw marissa mayer goo...</td>\n",
       "      <td>Google</td>\n",
       "      <td>Positive emotion</td>\n",
       "      <td>Google</td>\n",
       "    </tr>\n",
       "  </tbody>\n",
       "</table>\n",
       "</div>"
      ],
      "text/plain": [
       "                                          tweet_text           recipient  \\\n",
       "0  user i have a 3g iphone after 3 hrs tweeting a...              iPhone   \n",
       "1  user know about user  awesome ipadiphone app t...  iPad or iPhone App   \n",
       "2  user can not wait for ipad 2 also they should ...                iPad   \n",
       "3  user i hope this years festival is not as cras...  iPad or iPhone App   \n",
       "4  user great stuff on fri sxsw marissa mayer goo...              Google   \n",
       "\n",
       "            emotion   brand  \n",
       "0  Negative emotion   Apple  \n",
       "1  Positive emotion   Apple  \n",
       "2  Positive emotion   Apple  \n",
       "3  Negative emotion   Apple  \n",
       "4  Positive emotion  Google  "
      ]
     },
     "execution_count": 35,
     "metadata": {},
     "output_type": "execute_result"
    }
   ],
   "source": [
    "data['tweet_text']=data['tweet_text'].apply(remove_punctuations)\n",
    "data.head()"
   ]
  },
  {
   "cell_type": "code",
   "execution_count": 36,
   "id": "972683b1",
   "metadata": {},
   "outputs": [
    {
     "data": {
      "text/plain": [
       "'need to buy an ipad2 while i am in austin at sxsw not sure if i will need to q up at an austin apple store'"
      ]
     },
     "execution_count": 36,
     "metadata": {},
     "output_type": "execute_result"
    }
   ],
   "source": [
    "data.tweet_text[20]"
   ]
  },
  {
   "cell_type": "markdown",
   "id": "fa8528a9",
   "metadata": {},
   "source": [
    "### Tokenization and Removing Stopwords"
   ]
  },
  {
   "cell_type": "code",
   "execution_count": 37,
   "id": "697ea8f2",
   "metadata": {},
   "outputs": [
    {
     "data": {
      "text/html": [
       "<div>\n",
       "<style scoped>\n",
       "    .dataframe tbody tr th:only-of-type {\n",
       "        vertical-align: middle;\n",
       "    }\n",
       "\n",
       "    .dataframe tbody tr th {\n",
       "        vertical-align: top;\n",
       "    }\n",
       "\n",
       "    .dataframe thead th {\n",
       "        text-align: right;\n",
       "    }\n",
       "</style>\n",
       "<table border=\"1\" class=\"dataframe\">\n",
       "  <thead>\n",
       "    <tr style=\"text-align: right;\">\n",
       "      <th></th>\n",
       "      <th>tweet_text</th>\n",
       "      <th>recipient</th>\n",
       "      <th>emotion</th>\n",
       "      <th>brand</th>\n",
       "    </tr>\n",
       "  </thead>\n",
       "  <tbody>\n",
       "    <tr>\n",
       "      <th>0</th>\n",
       "      <td>[user, i, have, a, 3g, iphone, after, 3, hrs, ...</td>\n",
       "      <td>iPhone</td>\n",
       "      <td>Negative emotion</td>\n",
       "      <td>Apple</td>\n",
       "    </tr>\n",
       "    <tr>\n",
       "      <th>1</th>\n",
       "      <td>[user, know, about, user, awesome, ipadiphone,...</td>\n",
       "      <td>iPad or iPhone App</td>\n",
       "      <td>Positive emotion</td>\n",
       "      <td>Apple</td>\n",
       "    </tr>\n",
       "    <tr>\n",
       "      <th>2</th>\n",
       "      <td>[user, can, not, wait, for, ipad, 2, also, the...</td>\n",
       "      <td>iPad</td>\n",
       "      <td>Positive emotion</td>\n",
       "      <td>Apple</td>\n",
       "    </tr>\n",
       "    <tr>\n",
       "      <th>3</th>\n",
       "      <td>[user, i, hope, this, years, festival, is, not...</td>\n",
       "      <td>iPad or iPhone App</td>\n",
       "      <td>Negative emotion</td>\n",
       "      <td>Apple</td>\n",
       "    </tr>\n",
       "    <tr>\n",
       "      <th>4</th>\n",
       "      <td>[user, great, stuff, on, fri, sxsw, marissa, m...</td>\n",
       "      <td>Google</td>\n",
       "      <td>Positive emotion</td>\n",
       "      <td>Google</td>\n",
       "    </tr>\n",
       "  </tbody>\n",
       "</table>\n",
       "</div>"
      ],
      "text/plain": [
       "                                          tweet_text           recipient  \\\n",
       "0  [user, i, have, a, 3g, iphone, after, 3, hrs, ...              iPhone   \n",
       "1  [user, know, about, user, awesome, ipadiphone,...  iPad or iPhone App   \n",
       "2  [user, can, not, wait, for, ipad, 2, also, the...                iPad   \n",
       "3  [user, i, hope, this, years, festival, is, not...  iPad or iPhone App   \n",
       "4  [user, great, stuff, on, fri, sxsw, marissa, m...              Google   \n",
       "\n",
       "            emotion   brand  \n",
       "0  Negative emotion   Apple  \n",
       "1  Positive emotion   Apple  \n",
       "2  Positive emotion   Apple  \n",
       "3  Negative emotion   Apple  \n",
       "4  Positive emotion  Google  "
      ]
     },
     "execution_count": 37,
     "metadata": {},
     "output_type": "execute_result"
    }
   ],
   "source": [
    "# tokenize the tweets\n",
    "def tokenize_text(tweet):\n",
    "    return word_tokenize(tweet)\n",
    "\n",
    "data['tweet_text'] = data['tweet_text'].apply(tokenize_text)\n",
    "data.head()"
   ]
  },
  {
   "cell_type": "code",
   "execution_count": 38,
   "id": "d5a1b0c5",
   "metadata": {},
   "outputs": [
    {
     "data": {
      "text/html": [
       "<div>\n",
       "<style scoped>\n",
       "    .dataframe tbody tr th:only-of-type {\n",
       "        vertical-align: middle;\n",
       "    }\n",
       "\n",
       "    .dataframe tbody tr th {\n",
       "        vertical-align: top;\n",
       "    }\n",
       "\n",
       "    .dataframe thead th {\n",
       "        text-align: right;\n",
       "    }\n",
       "</style>\n",
       "<table border=\"1\" class=\"dataframe\">\n",
       "  <thead>\n",
       "    <tr style=\"text-align: right;\">\n",
       "      <th></th>\n",
       "      <th>tweet_text</th>\n",
       "      <th>recipient</th>\n",
       "      <th>emotion</th>\n",
       "      <th>brand</th>\n",
       "    </tr>\n",
       "  </thead>\n",
       "  <tbody>\n",
       "    <tr>\n",
       "      <th>0</th>\n",
       "      <td>user 3g iphone 3 hrs tweeting riseaustin dead ...</td>\n",
       "      <td>iPhone</td>\n",
       "      <td>Negative emotion</td>\n",
       "      <td>Apple</td>\n",
       "    </tr>\n",
       "    <tr>\n",
       "      <th>1</th>\n",
       "      <td>user know user awesome ipadiphone app likely a...</td>\n",
       "      <td>iPad or iPhone App</td>\n",
       "      <td>Positive emotion</td>\n",
       "      <td>Apple</td>\n",
       "    </tr>\n",
       "    <tr>\n",
       "      <th>2</th>\n",
       "      <td>user wait ipad 2 also sale sxsw</td>\n",
       "      <td>iPad</td>\n",
       "      <td>Positive emotion</td>\n",
       "      <td>Apple</td>\n",
       "    </tr>\n",
       "    <tr>\n",
       "      <th>3</th>\n",
       "      <td>user hope years festival crashy years iphone a...</td>\n",
       "      <td>iPad or iPhone App</td>\n",
       "      <td>Negative emotion</td>\n",
       "      <td>Apple</td>\n",
       "    </tr>\n",
       "    <tr>\n",
       "      <th>4</th>\n",
       "      <td>user great stuff fri sxsw marissa mayer google...</td>\n",
       "      <td>Google</td>\n",
       "      <td>Positive emotion</td>\n",
       "      <td>Google</td>\n",
       "    </tr>\n",
       "  </tbody>\n",
       "</table>\n",
       "</div>"
      ],
      "text/plain": [
       "                                          tweet_text           recipient  \\\n",
       "0  user 3g iphone 3 hrs tweeting riseaustin dead ...              iPhone   \n",
       "1  user know user awesome ipadiphone app likely a...  iPad or iPhone App   \n",
       "2                    user wait ipad 2 also sale sxsw                iPad   \n",
       "3  user hope years festival crashy years iphone a...  iPad or iPhone App   \n",
       "4  user great stuff fri sxsw marissa mayer google...              Google   \n",
       "\n",
       "            emotion   brand  \n",
       "0  Negative emotion   Apple  \n",
       "1  Positive emotion   Apple  \n",
       "2  Positive emotion   Apple  \n",
       "3  Negative emotion   Apple  \n",
       "4  Positive emotion  Google  "
      ]
     },
     "execution_count": 38,
     "metadata": {},
     "output_type": "execute_result"
    }
   ],
   "source": [
    "# removing stop words\n",
    "stop_words = set(stopwords.words('english'))\n",
    "\n",
    "def remove_stopwords(tweet):\n",
    "    # Use list comprehension for efficient list creation\n",
    "    new_tweet = [word for word in tweet if word not in stop_words]\n",
    "    return \" \".join(new_tweet)\n",
    "\n",
    "# Apply the function to the 'review' column\n",
    "data['tweet_text'] = data['tweet_text'].apply(remove_stopwords)\n",
    "data.head()"
   ]
  },
  {
   "cell_type": "code",
   "execution_count": 39,
   "id": "b1488580",
   "metadata": {},
   "outputs": [
    {
     "data": {
      "text/plain": [
       "No emotion toward brand or product    5375\n",
       "Positive emotion                      2970\n",
       "Negative emotion                       569\n",
       "I can't tell                           156\n",
       "Name: emotion, dtype: int64"
      ]
     },
     "execution_count": 39,
     "metadata": {},
     "output_type": "execute_result"
    }
   ],
   "source": [
    "data.emotion.value_counts()"
   ]
  },
  {
   "cell_type": "markdown",
   "id": "8ac2ba97",
   "metadata": {},
   "source": [
    "### Words Distribution in Tweet Text"
   ]
  },
  {
   "cell_type": "code",
   "execution_count": 40,
   "id": "01c4a1c4",
   "metadata": {},
   "outputs": [
    {
     "data": {
      "image/png": "[encoded data removed]",
      "text/plain": [
       "<Figure size 864x576 with 4 Axes>"
      ]
     },
     "metadata": {
      "needs_background": "light"
     },
     "output_type": "display_data"
    }
   ],
   "source": [
    "def generate_review_hist_plot(data, label, color, ax):\n",
    "    tweet_len = data[data['emotion']==label].tweet_text.str.split().map(lambda x: len(x))\n",
    "    ax.set_xlim(0, 25)\n",
    "    ax.set_ylim(0, 800)\n",
    "    ax.hist(tweet_len, color=color)\n",
    "    ax.set_title(f'{label.title()} tweet_text')\n",
    "\n",
    "fig, ax = plt.subplots(nrows=2, ncols=2, figsize=(12,8))\n",
    "generate_review_hist_plot(data,'Positive emotion','green',ax[0,0])\n",
    "generate_review_hist_plot(data,'Negative emotion','red',ax[0,1])\n",
    "generate_review_hist_plot(data,'No emotion toward brand or product','blue',ax[1,0])\n",
    "generate_review_hist_plot(data,\"I can't tell\",'purple',ax[1,1])\n",
    "\n",
    "fig.suptitle(\"Words Distribution in Tweet Text\", fontsize=18)\n",
    "\n",
    "plt.show()"
   ]
  },
  {
   "cell_type": "markdown",
   "id": "bf8b2aee",
   "metadata": {},
   "source": [
    "### ***Interpretation***\n",
    "Majority of the tweets in all the target emotions classes were 10-15 words long. "
   ]
  },
  {
   "cell_type": "markdown",
   "id": "e67d8875",
   "metadata": {},
   "source": [
    "### Re-tokenizing"
   ]
  },
  {
   "cell_type": "code",
   "execution_count": 41,
   "id": "26310114",
   "metadata": {},
   "outputs": [
    {
     "data": {
      "text/html": [
       "<div>\n",
       "<style scoped>\n",
       "    .dataframe tbody tr th:only-of-type {\n",
       "        vertical-align: middle;\n",
       "    }\n",
       "\n",
       "    .dataframe tbody tr th {\n",
       "        vertical-align: top;\n",
       "    }\n",
       "\n",
       "    .dataframe thead th {\n",
       "        text-align: right;\n",
       "    }\n",
       "</style>\n",
       "<table border=\"1\" class=\"dataframe\">\n",
       "  <thead>\n",
       "    <tr style=\"text-align: right;\">\n",
       "      <th></th>\n",
       "      <th>tweet_text</th>\n",
       "      <th>recipient</th>\n",
       "      <th>emotion</th>\n",
       "      <th>brand</th>\n",
       "    </tr>\n",
       "  </thead>\n",
       "  <tbody>\n",
       "    <tr>\n",
       "      <th>0</th>\n",
       "      <td>[user, 3g, iphone, 3, hrs, tweeting, riseausti...</td>\n",
       "      <td>iPhone</td>\n",
       "      <td>Negative emotion</td>\n",
       "      <td>Apple</td>\n",
       "    </tr>\n",
       "    <tr>\n",
       "      <th>1</th>\n",
       "      <td>[user, know, user, awesome, ipadiphone, app, l...</td>\n",
       "      <td>iPad or iPhone App</td>\n",
       "      <td>Positive emotion</td>\n",
       "      <td>Apple</td>\n",
       "    </tr>\n",
       "    <tr>\n",
       "      <th>2</th>\n",
       "      <td>[user, wait, ipad, 2, also, sale, sxsw]</td>\n",
       "      <td>iPad</td>\n",
       "      <td>Positive emotion</td>\n",
       "      <td>Apple</td>\n",
       "    </tr>\n",
       "    <tr>\n",
       "      <th>3</th>\n",
       "      <td>[user, hope, years, festival, crashy, years, i...</td>\n",
       "      <td>iPad or iPhone App</td>\n",
       "      <td>Negative emotion</td>\n",
       "      <td>Apple</td>\n",
       "    </tr>\n",
       "    <tr>\n",
       "      <th>4</th>\n",
       "      <td>[user, great, stuff, fri, sxsw, marissa, mayer...</td>\n",
       "      <td>Google</td>\n",
       "      <td>Positive emotion</td>\n",
       "      <td>Google</td>\n",
       "    </tr>\n",
       "  </tbody>\n",
       "</table>\n",
       "</div>"
      ],
      "text/plain": [
       "                                          tweet_text           recipient  \\\n",
       "0  [user, 3g, iphone, 3, hrs, tweeting, riseausti...              iPhone   \n",
       "1  [user, know, user, awesome, ipadiphone, app, l...  iPad or iPhone App   \n",
       "2            [user, wait, ipad, 2, also, sale, sxsw]                iPad   \n",
       "3  [user, hope, years, festival, crashy, years, i...  iPad or iPhone App   \n",
       "4  [user, great, stuff, fri, sxsw, marissa, mayer...              Google   \n",
       "\n",
       "            emotion   brand  \n",
       "0  Negative emotion   Apple  \n",
       "1  Positive emotion   Apple  \n",
       "2  Positive emotion   Apple  \n",
       "3  Negative emotion   Apple  \n",
       "4  Positive emotion  Google  "
      ]
     },
     "execution_count": 41,
     "metadata": {},
     "output_type": "execute_result"
    }
   ],
   "source": [
    "# re-tokenizing the data\n",
    "data['tweet_text'] = data['tweet_text'].apply(tokenize_text)\n",
    "data.head()"
   ]
  },
  {
   "cell_type": "code",
   "execution_count": 42,
   "id": "07d95088",
   "metadata": {},
   "outputs": [
    {
     "data": {
      "text/plain": [
       "['user',\n",
       " '3g',\n",
       " 'iphone',\n",
       " '3',\n",
       " 'hrs',\n",
       " 'tweeting',\n",
       " 'riseaustin',\n",
       " 'dead',\n",
       " 'need',\n",
       " 'upgrade',\n",
       " 'plugin',\n",
       " 'stations',\n",
       " 'sxsw']"
      ]
     },
     "execution_count": 42,
     "metadata": {},
     "output_type": "execute_result"
    }
   ],
   "source": [
    "data.tweet_text[0]"
   ]
  },
  {
   "cell_type": "markdown",
   "id": "57588321",
   "metadata": {},
   "source": [
    "### Justification for Retokenizing\n",
    "\n",
    "We retokinized since after removing the stopwords the tweets were  no longer split as strings."
   ]
  },
  {
   "cell_type": "markdown",
   "id": "7a7a1b03",
   "metadata": {},
   "source": [
    "### Frequency Distribution after Removing Stopwords"
   ]
  },
  {
   "cell_type": "code",
   "execution_count": 43,
   "id": "2c85f8a1",
   "metadata": {},
   "outputs": [
    {
     "data": {
      "image/png": "[encoded data removed]",
      "text/plain": [
       "<Figure size 864x432 with 1 Axes>"
      ]
     },
     "metadata": {
      "needs_background": "light"
     },
     "output_type": "display_data"
    }
   ],
   "source": [
    "tweet_texts = data.tweet_text\n",
    "# Flatten the list of tokens into a single list\n",
    "all_tokens = [tweet for sublist in tweet_texts for tweet in sublist]\n",
    "\n",
    "# Create the frequency distribution\n",
    "freq_dist = FreqDist(all_tokens)\n",
    "\n",
    "# Get the most common words\n",
    "most_common = freq_dist.most_common(20)  # Example: Top 20 most common words\n",
    "\n",
    "# Extract the words and frequencies\n",
    "words, frequencies = zip(*most_common)\n",
    "\n",
    "# Create a bar plot\n",
    "plt.figure(figsize=(12, 6))\n",
    "plt.bar(words, frequencies)\n",
    "plt.xlabel('Words')\n",
    "plt.ylabel('Frequency')\n",
    "plt.title('Frequency Distribution of Words')\n",
    "plt.xticks(rotation=45)\n",
    "plt.show()"
   ]
  },
  {
   "cell_type": "markdown",
   "id": "ffe6dd96",
   "metadata": {},
   "source": [
    "#### ***Observation***\n",
    "Just by looking at this, we can see there is a high occurence of\n",
    "\n",
    "* Venue **(south by south west)** specific words such as ```sxsw```\n",
    "\n",
    "* Twitter specific words(**re-tweet** such as ```rt```\n",
    "\n",
    "* Brand or product specific words such as ```iphone```\n",
    "\n",
    "These words probably occur across our various sentiments and may not necessarily add any meaning, unless a majority of their occurence is associated with a particular emotion"
   ]
  },
  {
   "cell_type": "markdown",
   "id": "f9672f95",
   "metadata": {},
   "source": [
    "### Lemmatization"
   ]
  },
  {
   "cell_type": "code",
   "execution_count": 44,
   "id": "9e85f87d",
   "metadata": {},
   "outputs": [],
   "source": [
    "# lemmatization - example cats - cat\n",
    "# Create Lemmatizer\n",
    "word_lem = WordNetLemmatizer()\n",
    "\n",
    "# function\n",
    "def lem_words(tweet):\n",
    "    return [word_lem.lemmatize(word) for word in tweet]"
   ]
  },
  {
   "cell_type": "code",
   "execution_count": 45,
   "id": "5e79d904",
   "metadata": {},
   "outputs": [
    {
     "data": {
      "text/plain": [
       "0    [user, 3g, iphone, 3, hr, tweeting, riseaustin...\n",
       "1    [user, know, user, awesome, ipadiphone, app, l...\n",
       "2              [user, wait, ipad, 2, also, sale, sxsw]\n",
       "3    [user, hope, year, festival, crashy, year, iph...\n",
       "4    [user, great, stuff, fri, sxsw, marissa, mayer...\n",
       "Name: tweet_text, dtype: object"
      ]
     },
     "execution_count": 45,
     "metadata": {},
     "output_type": "execute_result"
    }
   ],
   "source": [
    "data['tweet_text'] = data['tweet_text'].apply(lem_words)\n",
    "data['tweet_text'].head()"
   ]
  },
  {
   "cell_type": "code",
   "execution_count": 46,
   "id": "260ca75d",
   "metadata": {},
   "outputs": [
    {
     "data": {
      "text/html": [
       "<div>\n",
       "<style scoped>\n",
       "    .dataframe tbody tr th:only-of-type {\n",
       "        vertical-align: middle;\n",
       "    }\n",
       "\n",
       "    .dataframe tbody tr th {\n",
       "        vertical-align: top;\n",
       "    }\n",
       "\n",
       "    .dataframe thead th {\n",
       "        text-align: right;\n",
       "    }\n",
       "</style>\n",
       "<table border=\"1\" class=\"dataframe\">\n",
       "  <thead>\n",
       "    <tr style=\"text-align: right;\">\n",
       "      <th></th>\n",
       "      <th>tweet_text</th>\n",
       "      <th>recipient</th>\n",
       "      <th>emotion</th>\n",
       "      <th>brand</th>\n",
       "    </tr>\n",
       "  </thead>\n",
       "  <tbody>\n",
       "    <tr>\n",
       "      <th>0</th>\n",
       "      <td>[user, 3g, iphone, 3, hr, tweeting, riseaustin...</td>\n",
       "      <td>iPhone</td>\n",
       "      <td>Negative emotion</td>\n",
       "      <td>Apple</td>\n",
       "    </tr>\n",
       "    <tr>\n",
       "      <th>1</th>\n",
       "      <td>[user, know, user, awesome, ipadiphone, app, l...</td>\n",
       "      <td>iPad or iPhone App</td>\n",
       "      <td>Positive emotion</td>\n",
       "      <td>Apple</td>\n",
       "    </tr>\n",
       "    <tr>\n",
       "      <th>2</th>\n",
       "      <td>[user, wait, ipad, 2, also, sale, sxsw]</td>\n",
       "      <td>iPad</td>\n",
       "      <td>Positive emotion</td>\n",
       "      <td>Apple</td>\n",
       "    </tr>\n",
       "    <tr>\n",
       "      <th>3</th>\n",
       "      <td>[user, hope, year, festival, crashy, year, iph...</td>\n",
       "      <td>iPad or iPhone App</td>\n",
       "      <td>Negative emotion</td>\n",
       "      <td>Apple</td>\n",
       "    </tr>\n",
       "    <tr>\n",
       "      <th>4</th>\n",
       "      <td>[user, great, stuff, fri, sxsw, marissa, mayer...</td>\n",
       "      <td>Google</td>\n",
       "      <td>Positive emotion</td>\n",
       "      <td>Google</td>\n",
       "    </tr>\n",
       "  </tbody>\n",
       "</table>\n",
       "</div>"
      ],
      "text/plain": [
       "                                          tweet_text           recipient  \\\n",
       "0  [user, 3g, iphone, 3, hr, tweeting, riseaustin...              iPhone   \n",
       "1  [user, know, user, awesome, ipadiphone, app, l...  iPad or iPhone App   \n",
       "2            [user, wait, ipad, 2, also, sale, sxsw]                iPad   \n",
       "3  [user, hope, year, festival, crashy, year, iph...  iPad or iPhone App   \n",
       "4  [user, great, stuff, fri, sxsw, marissa, mayer...              Google   \n",
       "\n",
       "            emotion   brand  \n",
       "0  Negative emotion   Apple  \n",
       "1  Positive emotion   Apple  \n",
       "2  Positive emotion   Apple  \n",
       "3  Negative emotion   Apple  \n",
       "4  Positive emotion  Google  "
      ]
     },
     "execution_count": 46,
     "metadata": {},
     "output_type": "execute_result"
    }
   ],
   "source": [
    "data.head()"
   ]
  },
  {
   "cell_type": "markdown",
   "id": "50fff4ad",
   "metadata": {},
   "source": [
    "### Dealing with Emojis"
   ]
  },
  {
   "cell_type": "markdown",
   "id": "15eedb17",
   "metadata": {},
   "source": [
    "We create a function that replaces emojis in tweet text with their corresponding meanings."
   ]
  },
  {
   "cell_type": "code",
   "execution_count": 47,
   "id": "24968c19",
   "metadata": {},
   "outputs": [],
   "source": [
    "# Defining dictionary containing all emojis with their meanings.\n",
    "emojis = {':)': 'smile', ':-)': 'smile', ';d': 'wink', ':-E': 'vampire', ':(': 'sad', \n",
    "          ':-(': 'sad', ':-<': 'sad', ':P': 'raspberry', ':O': 'surprised',\n",
    "          ':-@': 'shocked', ':@': 'shocked',':-$': 'confused', ':\\\\': 'annoyed', \n",
    "          ':#': 'mute', ':X': 'mute', ':^)': 'smile', ':-&': 'confused', '$_$': 'greedy',\n",
    "          '@@': 'eyeroll', ':-!': 'confused', ':-D': 'smile', ':-0': 'yell', 'O.o': 'confused',\n",
    "          '<(-_-)>': 'robot', 'd[-_-]b': 'dj', \":'-)\": 'sadsmile', ';)': 'wink', \n",
    "          ';-)': 'wink', 'O:-)': 'angel','O*-)': 'angel','(:-D': 'gossip', '=^.^=': 'cat'}"
   ]
  },
  {
   "cell_type": "code",
   "execution_count": 48,
   "id": "9d95ddfb",
   "metadata": {},
   "outputs": [],
   "source": [
    "#function to remove emojis and sequence of letters like heeeey)\n",
    "def process(tweets):\n",
    "    \n",
    "    processed_tweet = []\n",
    "    \n",
    "    \n",
    "    # Defining regex patterns.\n",
    "    \n",
    "    sequencePattern   = r\"(.)\\1\\1+\" #matches three or more consecutive occurrences of the same character.\n",
    "    seqReplacePattern = r\"\\1\\1\"\n",
    "    \n",
    "    for tweet in tweets:\n",
    "        \n",
    "        # Replace all emojis.\n",
    "        for emoji in emojis.keys():\n",
    "            tweet = tweet.replace(emoji, \"EMOJI\" + emojis[emoji])              \n",
    "            # Replace 3 or more consecutive letters by 2 letter.\n",
    "            tweet = re.sub(sequencePattern, seqReplacePattern, tweet)\n",
    "        \n",
    "        processed_tweet.append(tweet)\n",
    "        \n",
    "    return processed_tweet"
   ]
  },
  {
   "cell_type": "code",
   "execution_count": 49,
   "id": "70867e59",
   "metadata": {},
   "outputs": [
    {
     "data": {
      "text/html": [
       "<div>\n",
       "<style scoped>\n",
       "    .dataframe tbody tr th:only-of-type {\n",
       "        vertical-align: middle;\n",
       "    }\n",
       "\n",
       "    .dataframe tbody tr th {\n",
       "        vertical-align: top;\n",
       "    }\n",
       "\n",
       "    .dataframe thead th {\n",
       "        text-align: right;\n",
       "    }\n",
       "</style>\n",
       "<table border=\"1\" class=\"dataframe\">\n",
       "  <thead>\n",
       "    <tr style=\"text-align: right;\">\n",
       "      <th></th>\n",
       "      <th>tweet_text</th>\n",
       "      <th>recipient</th>\n",
       "      <th>emotion</th>\n",
       "      <th>brand</th>\n",
       "    </tr>\n",
       "  </thead>\n",
       "  <tbody>\n",
       "    <tr>\n",
       "      <th>0</th>\n",
       "      <td>[user, 3g, iphone, 3, hr, tweeting, riseaustin...</td>\n",
       "      <td>iPhone</td>\n",
       "      <td>Negative emotion</td>\n",
       "      <td>Apple</td>\n",
       "    </tr>\n",
       "    <tr>\n",
       "      <th>1</th>\n",
       "      <td>[user, know, user, awesome, ipadiphone, app, l...</td>\n",
       "      <td>iPad or iPhone App</td>\n",
       "      <td>Positive emotion</td>\n",
       "      <td>Apple</td>\n",
       "    </tr>\n",
       "    <tr>\n",
       "      <th>2</th>\n",
       "      <td>[user, wait, ipad, 2, also, sale, sxsw]</td>\n",
       "      <td>iPad</td>\n",
       "      <td>Positive emotion</td>\n",
       "      <td>Apple</td>\n",
       "    </tr>\n",
       "    <tr>\n",
       "      <th>3</th>\n",
       "      <td>[user, hope, year, festival, crashy, year, iph...</td>\n",
       "      <td>iPad or iPhone App</td>\n",
       "      <td>Negative emotion</td>\n",
       "      <td>Apple</td>\n",
       "    </tr>\n",
       "    <tr>\n",
       "      <th>4</th>\n",
       "      <td>[user, great, stuff, fri, sxsw, marissa, mayer...</td>\n",
       "      <td>Google</td>\n",
       "      <td>Positive emotion</td>\n",
       "      <td>Google</td>\n",
       "    </tr>\n",
       "  </tbody>\n",
       "</table>\n",
       "</div>"
      ],
      "text/plain": [
       "                                          tweet_text           recipient  \\\n",
       "0  [user, 3g, iphone, 3, hr, tweeting, riseaustin...              iPhone   \n",
       "1  [user, know, user, awesome, ipadiphone, app, l...  iPad or iPhone App   \n",
       "2            [user, wait, ipad, 2, also, sale, sxsw]                iPad   \n",
       "3  [user, hope, year, festival, crashy, year, iph...  iPad or iPhone App   \n",
       "4  [user, great, stuff, fri, sxsw, marissa, mayer...              Google   \n",
       "\n",
       "            emotion   brand  \n",
       "0  Negative emotion   Apple  \n",
       "1  Positive emotion   Apple  \n",
       "2  Positive emotion   Apple  \n",
       "3  Negative emotion   Apple  \n",
       "4  Positive emotion  Google  "
      ]
     },
     "execution_count": 49,
     "metadata": {},
     "output_type": "execute_result"
    }
   ],
   "source": [
    "data['tweet_text'] = data['tweet_text'].apply(process)\n",
    "data.head()"
   ]
  },
  {
   "cell_type": "code",
   "execution_count": 50,
   "id": "f7ee9b37",
   "metadata": {},
   "outputs": [
    {
     "data": {
      "text/plain": [
       "['user',\n",
       " '3g',\n",
       " 'iphone',\n",
       " '3',\n",
       " 'hr',\n",
       " 'tweeting',\n",
       " 'riseaustin',\n",
       " 'dead',\n",
       " 'need',\n",
       " 'upgrade',\n",
       " 'plugin',\n",
       " 'station',\n",
       " 'sxsw']"
      ]
     },
     "execution_count": 50,
     "metadata": {},
     "output_type": "execute_result"
    }
   ],
   "source": [
    "data.tweet_text[0]"
   ]
  },
  {
   "cell_type": "markdown",
   "id": "96b020f1",
   "metadata": {},
   "source": [
    "### vectorization\n",
    "#### CountVectorization\n",
    "\n",
    "Techniques is used for converting text documents into numerical representations"
   ]
  },
  {
   "cell_type": "code",
   "execution_count": 51,
   "id": "db303d1c",
   "metadata": {},
   "outputs": [],
   "source": [
    "# create instance 1 vectorizer\n",
    "bow = CountVectorizer()\n",
    "#create lemmatized_review column \n",
    "data['lemmatized_review'] = data['tweet_text'].str.join(\" \")\n",
    "x = bow.fit_transform(data['lemmatized_review'])"
   ]
  },
  {
   "cell_type": "code",
   "execution_count": 52,
   "id": "118a3014",
   "metadata": {},
   "outputs": [
    {
     "data": {
      "text/plain": [
       "array(['02', '03', '0310', ..., 'ûómy', 'ûóthe', 'ûóuser'], dtype=object)"
      ]
     },
     "execution_count": 52,
     "metadata": {},
     "output_type": "execute_result"
    }
   ],
   "source": [
    "#checking feature names \n",
    "feature_name = bow.get_feature_names_out()\n",
    "feature_name"
   ]
  },
  {
   "cell_type": "markdown",
   "id": "a5c814c5",
   "metadata": {},
   "source": [
    "# Feature engineering"
   ]
  },
  {
   "cell_type": "markdown",
   "id": "65e275ad",
   "metadata": {},
   "source": [
    "### Label Encoding the Target\n",
    "\n",
    "Here we label encode the target feature to transform the values to numerical values."
   ]
  },
  {
   "cell_type": "code",
   "execution_count": 53,
   "id": "7a97f91a",
   "metadata": {},
   "outputs": [
    {
     "data": {
      "text/plain": [
       "array([\"I can't tell\", 'Negative emotion',\n",
       "       'No emotion toward brand or product', 'Positive emotion'],\n",
       "      dtype=object)"
      ]
     },
     "execution_count": 53,
     "metadata": {},
     "output_type": "execute_result"
    }
   ],
   "source": [
    "#instantiate labelencoder\n",
    "le = LabelEncoder() # initializing the lib\n",
    "#fit transform \n",
    "data['emotion_code'] = le.fit_transform(data.emotion)\n",
    "le.classes_ # viewing the classes"
   ]
  },
  {
   "cell_type": "markdown",
   "id": "1c1d9883",
   "metadata": {},
   "source": [
    "### Previewing to ensure encoding is present"
   ]
  },
  {
   "cell_type": "code",
   "execution_count": 54,
   "id": "d1733495",
   "metadata": {},
   "outputs": [
    {
     "data": {
      "text/html": [
       "<div>\n",
       "<style scoped>\n",
       "    .dataframe tbody tr th:only-of-type {\n",
       "        vertical-align: middle;\n",
       "    }\n",
       "\n",
       "    .dataframe tbody tr th {\n",
       "        vertical-align: top;\n",
       "    }\n",
       "\n",
       "    .dataframe thead th {\n",
       "        text-align: right;\n",
       "    }\n",
       "</style>\n",
       "<table border=\"1\" class=\"dataframe\">\n",
       "  <thead>\n",
       "    <tr style=\"text-align: right;\">\n",
       "      <th></th>\n",
       "      <th>tweet_text</th>\n",
       "      <th>recipient</th>\n",
       "      <th>emotion</th>\n",
       "      <th>brand</th>\n",
       "      <th>lemmatized_review</th>\n",
       "      <th>emotion_code</th>\n",
       "    </tr>\n",
       "  </thead>\n",
       "  <tbody>\n",
       "    <tr>\n",
       "      <th>0</th>\n",
       "      <td>[user, 3g, iphone, 3, hr, tweeting, riseaustin...</td>\n",
       "      <td>iPhone</td>\n",
       "      <td>Negative emotion</td>\n",
       "      <td>Apple</td>\n",
       "      <td>user 3g iphone 3 hr tweeting riseaustin dead n...</td>\n",
       "      <td>1</td>\n",
       "    </tr>\n",
       "    <tr>\n",
       "      <th>1</th>\n",
       "      <td>[user, know, user, awesome, ipadiphone, app, l...</td>\n",
       "      <td>iPad or iPhone App</td>\n",
       "      <td>Positive emotion</td>\n",
       "      <td>Apple</td>\n",
       "      <td>user know user awesome ipadiphone app likely a...</td>\n",
       "      <td>3</td>\n",
       "    </tr>\n",
       "    <tr>\n",
       "      <th>2</th>\n",
       "      <td>[user, wait, ipad, 2, also, sale, sxsw]</td>\n",
       "      <td>iPad</td>\n",
       "      <td>Positive emotion</td>\n",
       "      <td>Apple</td>\n",
       "      <td>user wait ipad 2 also sale sxsw</td>\n",
       "      <td>3</td>\n",
       "    </tr>\n",
       "    <tr>\n",
       "      <th>3</th>\n",
       "      <td>[user, hope, year, festival, crashy, year, iph...</td>\n",
       "      <td>iPad or iPhone App</td>\n",
       "      <td>Negative emotion</td>\n",
       "      <td>Apple</td>\n",
       "      <td>user hope year festival crashy year iphone app...</td>\n",
       "      <td>1</td>\n",
       "    </tr>\n",
       "    <tr>\n",
       "      <th>4</th>\n",
       "      <td>[user, great, stuff, fri, sxsw, marissa, mayer...</td>\n",
       "      <td>Google</td>\n",
       "      <td>Positive emotion</td>\n",
       "      <td>Google</td>\n",
       "      <td>user great stuff fri sxsw marissa mayer google...</td>\n",
       "      <td>3</td>\n",
       "    </tr>\n",
       "  </tbody>\n",
       "</table>\n",
       "</div>"
      ],
      "text/plain": [
       "                                          tweet_text           recipient  \\\n",
       "0  [user, 3g, iphone, 3, hr, tweeting, riseaustin...              iPhone   \n",
       "1  [user, know, user, awesome, ipadiphone, app, l...  iPad or iPhone App   \n",
       "2            [user, wait, ipad, 2, also, sale, sxsw]                iPad   \n",
       "3  [user, hope, year, festival, crashy, year, iph...  iPad or iPhone App   \n",
       "4  [user, great, stuff, fri, sxsw, marissa, mayer...              Google   \n",
       "\n",
       "            emotion   brand  \\\n",
       "0  Negative emotion   Apple   \n",
       "1  Positive emotion   Apple   \n",
       "2  Positive emotion   Apple   \n",
       "3  Negative emotion   Apple   \n",
       "4  Positive emotion  Google   \n",
       "\n",
       "                                   lemmatized_review  emotion_code  \n",
       "0  user 3g iphone 3 hr tweeting riseaustin dead n...             1  \n",
       "1  user know user awesome ipadiphone app likely a...             3  \n",
       "2                    user wait ipad 2 also sale sxsw             3  \n",
       "3  user hope year festival crashy year iphone app...             1  \n",
       "4  user great stuff fri sxsw marissa mayer google...             3  "
      ]
     },
     "execution_count": 54,
     "metadata": {},
     "output_type": "execute_result"
    }
   ],
   "source": [
    "# preview\n",
    "data.head()"
   ]
  },
  {
   "cell_type": "code",
   "execution_count": 55,
   "id": "b769e8b4",
   "metadata": {},
   "outputs": [
    {
     "data": {
      "text/html": [
       "<div>\n",
       "<style scoped>\n",
       "    .dataframe tbody tr th:only-of-type {\n",
       "        vertical-align: middle;\n",
       "    }\n",
       "\n",
       "    .dataframe tbody tr th {\n",
       "        vertical-align: top;\n",
       "    }\n",
       "\n",
       "    .dataframe thead th {\n",
       "        text-align: right;\n",
       "    }\n",
       "</style>\n",
       "<table border=\"1\" class=\"dataframe\">\n",
       "  <thead>\n",
       "    <tr style=\"text-align: right;\">\n",
       "      <th></th>\n",
       "      <th>emotion</th>\n",
       "      <th>emotion_code</th>\n",
       "    </tr>\n",
       "  </thead>\n",
       "  <tbody>\n",
       "    <tr>\n",
       "      <th>0</th>\n",
       "      <td>Negative emotion</td>\n",
       "      <td>1</td>\n",
       "    </tr>\n",
       "    <tr>\n",
       "      <th>1</th>\n",
       "      <td>Positive emotion</td>\n",
       "      <td>3</td>\n",
       "    </tr>\n",
       "    <tr>\n",
       "      <th>2</th>\n",
       "      <td>Positive emotion</td>\n",
       "      <td>3</td>\n",
       "    </tr>\n",
       "    <tr>\n",
       "      <th>3</th>\n",
       "      <td>Negative emotion</td>\n",
       "      <td>1</td>\n",
       "    </tr>\n",
       "    <tr>\n",
       "      <th>4</th>\n",
       "      <td>Positive emotion</td>\n",
       "      <td>3</td>\n",
       "    </tr>\n",
       "    <tr>\n",
       "      <th>5</th>\n",
       "      <td>No emotion toward brand or product</td>\n",
       "      <td>2</td>\n",
       "    </tr>\n",
       "    <tr>\n",
       "      <th>7</th>\n",
       "      <td>Positive emotion</td>\n",
       "      <td>3</td>\n",
       "    </tr>\n",
       "    <tr>\n",
       "      <th>8</th>\n",
       "      <td>Positive emotion</td>\n",
       "      <td>3</td>\n",
       "    </tr>\n",
       "    <tr>\n",
       "      <th>9</th>\n",
       "      <td>Positive emotion</td>\n",
       "      <td>3</td>\n",
       "    </tr>\n",
       "    <tr>\n",
       "      <th>10</th>\n",
       "      <td>Positive emotion</td>\n",
       "      <td>3</td>\n",
       "    </tr>\n",
       "  </tbody>\n",
       "</table>\n",
       "</div>"
      ],
      "text/plain": [
       "                               emotion  emotion_code\n",
       "0                     Negative emotion             1\n",
       "1                     Positive emotion             3\n",
       "2                     Positive emotion             3\n",
       "3                     Negative emotion             1\n",
       "4                     Positive emotion             3\n",
       "5   No emotion toward brand or product             2\n",
       "7                     Positive emotion             3\n",
       "8                     Positive emotion             3\n",
       "9                     Positive emotion             3\n",
       "10                    Positive emotion             3"
      ]
     },
     "execution_count": 55,
     "metadata": {},
     "output_type": "execute_result"
    }
   ],
   "source": [
    "# displaying the encoding scheme\n",
    "data[['emotion', 'emotion_code']].head(10)"
   ]
  },
  {
   "cell_type": "markdown",
   "id": "ef8ead91",
   "metadata": {},
   "source": [
    "# 6. Modeling\n",
    "* The problem at hand is a classification problem.\n",
    "* We will explore 2 models: a binary logistic regression model, a multi-class XGBoost model and MultinomialNB.\n",
    "* Model accuracy will be the metric for evaluation.\n",
    "* Justification: Accuracy to get a verdict if a tweet is positive or negative.\n",
    "\n",
    "* Accuracy of 70% will be the threshold to deem the model as successful."
   ]
  },
  {
   "cell_type": "markdown",
   "id": "bc4a0a36",
   "metadata": {},
   "source": [
    "### 6.1 Binary classification\n",
    "* In this section we create a base model to identify if a tweet is 'Positive' or 'Negative'.\n",
    "* LogisticRegression will be used for the classification.\n",
    "* The normal preprocessing of vectorization and train test split will be implemented."
   ]
  },
  {
   "cell_type": "code",
   "execution_count": 56,
   "id": "f5e7ec40",
   "metadata": {},
   "outputs": [],
   "source": [
    "# creating a copy of the original data so as to remove unwanted rows i.e. (not positive or negative)\n",
    "data_copy = data.copy()"
   ]
  },
  {
   "cell_type": "code",
   "execution_count": 57,
   "id": "e2e91b08",
   "metadata": {},
   "outputs": [],
   "source": [
    "# Define the values to drop\n",
    "values_to_drop = [0, 2]\n",
    "\n",
    "# Drop rows that have the values in column 'B'\n",
    "data_copy = data_copy[~data_copy['emotion_code'].isin(values_to_drop)]"
   ]
  },
  {
   "cell_type": "code",
   "execution_count": 58,
   "id": "833ed6d2",
   "metadata": {},
   "outputs": [
    {
     "data": {
      "text/plain": [
       "3    2970\n",
       "1     569\n",
       "Name: emotion_code, dtype: int64"
      ]
     },
     "execution_count": 58,
     "metadata": {},
     "output_type": "execute_result"
    }
   ],
   "source": [
    "# value counts\n",
    "data_copy['emotion_code'].value_counts()"
   ]
  },
  {
   "cell_type": "code",
   "execution_count": 59,
   "id": "fd05e461",
   "metadata": {},
   "outputs": [
    {
     "data": {
      "image/png": "[encoded data removed]",
      "text/plain": [
       "<Figure size 720x504 with 1 Axes>"
      ]
     },
     "metadata": {
      "needs_background": "light"
     },
     "output_type": "display_data"
    }
   ],
   "source": [
    "# lets see see binary sentiment distribution emotion-wise\n",
    "emotion_group = data_copy.groupby('emotion')['emotion_code'].value_counts().reset_index(name='count')\n",
    "# Calculate the ascending order of states based on churn count\n",
    "ascending_order = emotion_group.groupby('emotion')['count'].sum().sort_values().index\n",
    "\n",
    "plt.figure(figsize=(10,7))\n",
    "sns.barplot(x='emotion', y='count', hue='emotion', data=emotion_group, order=ascending_order)\n",
    "plt.xlabel('emotion')\n",
    "plt.ylabel('Count')\n",
    "plt.title('Sentiment Count Distribution')\n",
    "plt.show()"
   ]
  },
  {
   "cell_type": "markdown",
   "id": "51b31a23",
   "metadata": {},
   "source": [
    "### Intepretation\n",
    "\n",
    "* From the graph above it is clear that most of the sentiments were positive in nature"
   ]
  },
  {
   "cell_type": "markdown",
   "id": "b9edeb7a",
   "metadata": {},
   "source": [
    "\n",
    "### Vectorizing Data Copy\n",
    "#### CountVectorizer"
   ]
  },
  {
   "cell_type": "code",
   "execution_count": 60,
   "id": "e971132e",
   "metadata": {},
   "outputs": [],
   "source": [
    "# create instance of vectorizer\n",
    "bow2 = CountVectorizer()\n",
    "data_copy['lemmatized_review'] = data_copy['tweet_text'].str.join(\" \")\n",
    "# our X\n",
    "x2 = bow2.fit_transform(data_copy['lemmatized_review'])"
   ]
  },
  {
   "cell_type": "code",
   "execution_count": 61,
   "id": "88524d7c",
   "metadata": {},
   "outputs": [
    {
     "data": {
      "text/html": [
       "<div>\n",
       "<style scoped>\n",
       "    .dataframe tbody tr th:only-of-type {\n",
       "        vertical-align: middle;\n",
       "    }\n",
       "\n",
       "    .dataframe tbody tr th {\n",
       "        vertical-align: top;\n",
       "    }\n",
       "\n",
       "    .dataframe thead th {\n",
       "        text-align: right;\n",
       "    }\n",
       "</style>\n",
       "<table border=\"1\" class=\"dataframe\">\n",
       "  <thead>\n",
       "    <tr style=\"text-align: right;\">\n",
       "      <th></th>\n",
       "      <th>tweet_text</th>\n",
       "      <th>recipient</th>\n",
       "      <th>emotion</th>\n",
       "      <th>brand</th>\n",
       "      <th>lemmatized_review</th>\n",
       "      <th>emotion_code</th>\n",
       "    </tr>\n",
       "  </thead>\n",
       "  <tbody>\n",
       "    <tr>\n",
       "      <th>0</th>\n",
       "      <td>[user, 3g, iphone, 3, hr, tweeting, riseaustin...</td>\n",
       "      <td>iPhone</td>\n",
       "      <td>Negative emotion</td>\n",
       "      <td>Apple</td>\n",
       "      <td>user 3g iphone 3 hr tweeting riseaustin dead n...</td>\n",
       "      <td>1</td>\n",
       "    </tr>\n",
       "    <tr>\n",
       "      <th>1</th>\n",
       "      <td>[user, know, user, awesome, ipadiphone, app, l...</td>\n",
       "      <td>iPad or iPhone App</td>\n",
       "      <td>Positive emotion</td>\n",
       "      <td>Apple</td>\n",
       "      <td>user know user awesome ipadiphone app likely a...</td>\n",
       "      <td>3</td>\n",
       "    </tr>\n",
       "    <tr>\n",
       "      <th>2</th>\n",
       "      <td>[user, wait, ipad, 2, also, sale, sxsw]</td>\n",
       "      <td>iPad</td>\n",
       "      <td>Positive emotion</td>\n",
       "      <td>Apple</td>\n",
       "      <td>user wait ipad 2 also sale sxsw</td>\n",
       "      <td>3</td>\n",
       "    </tr>\n",
       "    <tr>\n",
       "      <th>3</th>\n",
       "      <td>[user, hope, year, festival, crashy, year, iph...</td>\n",
       "      <td>iPad or iPhone App</td>\n",
       "      <td>Negative emotion</td>\n",
       "      <td>Apple</td>\n",
       "      <td>user hope year festival crashy year iphone app...</td>\n",
       "      <td>1</td>\n",
       "    </tr>\n",
       "    <tr>\n",
       "      <th>4</th>\n",
       "      <td>[user, great, stuff, fri, sxsw, marissa, mayer...</td>\n",
       "      <td>Google</td>\n",
       "      <td>Positive emotion</td>\n",
       "      <td>Google</td>\n",
       "      <td>user great stuff fri sxsw marissa mayer google...</td>\n",
       "      <td>3</td>\n",
       "    </tr>\n",
       "  </tbody>\n",
       "</table>\n",
       "</div>"
      ],
      "text/plain": [
       "                                          tweet_text           recipient  \\\n",
       "0  [user, 3g, iphone, 3, hr, tweeting, riseaustin...              iPhone   \n",
       "1  [user, know, user, awesome, ipadiphone, app, l...  iPad or iPhone App   \n",
       "2            [user, wait, ipad, 2, also, sale, sxsw]                iPad   \n",
       "3  [user, hope, year, festival, crashy, year, iph...  iPad or iPhone App   \n",
       "4  [user, great, stuff, fri, sxsw, marissa, mayer...              Google   \n",
       "\n",
       "            emotion   brand  \\\n",
       "0  Negative emotion   Apple   \n",
       "1  Positive emotion   Apple   \n",
       "2  Positive emotion   Apple   \n",
       "3  Negative emotion   Apple   \n",
       "4  Positive emotion  Google   \n",
       "\n",
       "                                   lemmatized_review  emotion_code  \n",
       "0  user 3g iphone 3 hr tweeting riseaustin dead n...             1  \n",
       "1  user know user awesome ipadiphone app likely a...             3  \n",
       "2                    user wait ipad 2 also sale sxsw             3  \n",
       "3  user hope year festival crashy year iphone app...             1  \n",
       "4  user great stuff fri sxsw marissa mayer google...             3  "
      ]
     },
     "execution_count": 61,
     "metadata": {},
     "output_type": "execute_result"
    }
   ],
   "source": [
    "# preview\n",
    "data_copy.head()"
   ]
  },
  {
   "cell_type": "markdown",
   "id": "f47882ad",
   "metadata": {},
   "source": [
    "### Train-test split"
   ]
  },
  {
   "cell_type": "code",
   "execution_count": 62,
   "id": "23a71632",
   "metadata": {},
   "outputs": [],
   "source": [
    "#x = bow.fit_transform(data['lemmatized_review'])\n",
    "# our y\n",
    "y = data_copy['emotion_code']"
   ]
  },
  {
   "cell_type": "code",
   "execution_count": 63,
   "id": "8b37ea48",
   "metadata": {},
   "outputs": [],
   "source": [
    "# train-test split\n",
    "X_train, X_test, y_train, y_test = train_test_split(x2, y, test_size=0.2, random_state=42)"
   ]
  },
  {
   "cell_type": "code",
   "execution_count": 64,
   "id": "7bc18275",
   "metadata": {},
   "outputs": [
    {
     "data": {
      "text/plain": [
       "((2831, 5871), (2831,))"
      ]
     },
     "execution_count": 64,
     "metadata": {},
     "output_type": "execute_result"
    }
   ],
   "source": [
    "# confirming shape\n",
    "\n",
    "X_train.shape, y_train.shape"
   ]
  },
  {
   "cell_type": "markdown",
   "id": "486e4b84",
   "metadata": {},
   "source": [
    "\n",
    "### Fitting logistic regression model on split data"
   ]
  },
  {
   "cell_type": "code",
   "execution_count": 65,
   "id": "6b3064b1",
   "metadata": {},
   "outputs": [],
   "source": [
    "# instantiating model 1\n",
    "log_reg = LogisticRegression(random_state=42)"
   ]
  },
  {
   "cell_type": "code",
   "execution_count": 66,
   "id": "a1958e72",
   "metadata": {},
   "outputs": [
    {
     "data": {
      "text/html": [
       "<style>#sk-container-id-1 {color: black;background-color: white;}#sk-container-id-1 pre{padding: 0;}#sk-container-id-1 div.sk-toggleable {background-color: white;}#sk-container-id-1 label.sk-toggleable__label {cursor: pointer;display: block;width: 100%;margin-bottom: 0;padding: 0.3em;box-sizing: border-box;text-align: center;}#sk-container-id-1 label.sk-toggleable__label-arrow:before {content: \"▸\";float: left;margin-right: 0.25em;color: #696969;}#sk-container-id-1 label.sk-toggleable__label-arrow:hover:before {color: black;}#sk-container-id-1 div.sk-estimator:hover label.sk-toggleable__label-arrow:before {color: black;}#sk-container-id-1 div.sk-toggleable__content {max-height: 0;max-width: 0;overflow: hidden;text-align: left;background-color: #f0f8ff;}#sk-container-id-1 div.sk-toggleable__content pre {margin: 0.2em;color: black;border-radius: 0.25em;background-color: #f0f8ff;}#sk-container-id-1 input.sk-toggleable__control:checked~div.sk-toggleable__content {max-height: 200px;max-width: 100%;overflow: auto;}#sk-container-id-1 input.sk-toggleable__control:checked~label.sk-toggleable__label-arrow:before {content: \"▾\";}#sk-container-id-1 div.sk-estimator input.sk-toggleable__control:checked~label.sk-toggleable__label {background-color: #d4ebff;}#sk-container-id-1 div.sk-label input.sk-toggleable__control:checked~label.sk-toggleable__label {background-color: #d4ebff;}#sk-container-id-1 input.sk-hidden--visually {border: 0;clip: rect(1px 1px 1px 1px);clip: rect(1px, 1px, 1px, 1px);height: 1px;margin: -1px;overflow: hidden;padding: 0;position: absolute;width: 1px;}#sk-container-id-1 div.sk-estimator {font-family: monospace;background-color: #f0f8ff;border: 1px dotted black;border-radius: 0.25em;box-sizing: border-box;margin-bottom: 0.5em;}#sk-container-id-1 div.sk-estimator:hover {background-color: #d4ebff;}#sk-container-id-1 div.sk-parallel-item::after {content: \"\";width: 100%;border-bottom: 1px solid gray;flex-grow: 1;}#sk-container-id-1 div.sk-label:hover label.sk-toggleable__label {background-color: #d4ebff;}#sk-container-id-1 div.sk-serial::before {content: \"\";position: absolute;border-left: 1px solid gray;box-sizing: border-box;top: 0;bottom: 0;left: 50%;z-index: 0;}#sk-container-id-1 div.sk-serial {display: flex;flex-direction: column;align-items: center;background-color: white;padding-right: 0.2em;padding-left: 0.2em;position: relative;}#sk-container-id-1 div.sk-item {position: relative;z-index: 1;}#sk-container-id-1 div.sk-parallel {display: flex;align-items: stretch;justify-content: center;background-color: white;position: relative;}#sk-container-id-1 div.sk-item::before, #sk-container-id-1 div.sk-parallel-item::before {content: \"\";position: absolute;border-left: 1px solid gray;box-sizing: border-box;top: 0;bottom: 0;left: 50%;z-index: -1;}#sk-container-id-1 div.sk-parallel-item {display: flex;flex-direction: column;z-index: 1;position: relative;background-color: white;}#sk-container-id-1 div.sk-parallel-item:first-child::after {align-self: flex-end;width: 50%;}#sk-container-id-1 div.sk-parallel-item:last-child::after {align-self: flex-start;width: 50%;}#sk-container-id-1 div.sk-parallel-item:only-child::after {width: 0;}#sk-container-id-1 div.sk-dashed-wrapped {border: 1px dashed gray;margin: 0 0.4em 0.5em 0.4em;box-sizing: border-box;padding-bottom: 0.4em;background-color: white;}#sk-container-id-1 div.sk-label label {font-family: monospace;font-weight: bold;display: inline-block;line-height: 1.2em;}#sk-container-id-1 div.sk-label-container {text-align: center;}#sk-container-id-1 div.sk-container {/* jupyter's `normalize.less` sets `[hidden] { display: none; }` but bootstrap.min.css set `[hidden] { display: none !important; }` so we also need the `!important` here to be able to override the default hidden behavior on the sphinx rendered scikit-learn.org. See: https://github.com/scikit-learn/scikit-learn/issues/21755 */display: inline-block !important;position: relative;}#sk-container-id-1 div.sk-text-repr-fallback {display: none;}</style><div id=\"sk-container-id-1\" class=\"sk-top-container\"><div class=\"sk-text-repr-fallback\"><pre>LogisticRegression(random_state=42)</pre><b>In a Jupyter environment, please rerun this cell to show the HTML representation or trust the notebook. <br />On GitHub, the HTML representation is unable to render, please try loading this page with nbviewer.org.</b></div><div class=\"sk-container\" hidden><div class=\"sk-item\"><div class=\"sk-estimator sk-toggleable\"><input class=\"sk-toggleable__control sk-hidden--visually\" id=\"sk-estimator-id-1\" type=\"checkbox\" checked><label for=\"sk-estimator-id-1\" class=\"sk-toggleable__label sk-toggleable__label-arrow\">LogisticRegression</label><div class=\"sk-toggleable__content\"><pre>LogisticRegression(random_state=42)</pre></div></div></div></div></div>"
      ],
      "text/plain": [
       "LogisticRegression(random_state=42)"
      ]
     },
     "execution_count": 66,
     "metadata": {},
     "output_type": "execute_result"
    }
   ],
   "source": [
    "# fitting\n",
    "log_reg.fit(X_train, y_train)"
   ]
  },
  {
   "cell_type": "code",
   "execution_count": 67,
   "id": "58c30681",
   "metadata": {},
   "outputs": [],
   "source": [
    "# predicting\n",
    "y_pred = log_reg.predict(X_test)\n",
    "y_train_pred = log_reg.predict(X_train)"
   ]
  },
  {
   "cell_type": "markdown",
   "id": "c4dfca2f",
   "metadata": {},
   "source": [
    "### Evaluation"
   ]
  },
  {
   "cell_type": "code",
   "execution_count": 68,
   "id": "2e5a8811",
   "metadata": {},
   "outputs": [
    {
     "name": "stdout",
     "output_type": "stream",
     "text": [
      "train 0.9699752737548569\n",
      "test 0.903954802259887\n"
     ]
    }
   ],
   "source": [
    "#Accuracy score\n",
    "print('train',accuracy_score(y_train, y_train_pred))\n",
    "print('test',accuracy_score(y_test, y_pred))"
   ]
  },
  {
   "cell_type": "code",
   "execution_count": 69,
   "id": "003b3ee5",
   "metadata": {},
   "outputs": [
    {
     "name": "stdout",
     "output_type": "stream",
     "text": [
      "              precision    recall  f1-score   support\n",
      "\n",
      "           1       0.84      0.44      0.58       106\n",
      "           3       0.91      0.99      0.95       602\n",
      "\n",
      "    accuracy                           0.90       708\n",
      "   macro avg       0.87      0.71      0.76       708\n",
      "weighted avg       0.90      0.90      0.89       708\n",
      "\n"
     ]
    }
   ],
   "source": [
    "# Classification metric Report\n",
    "print(classification_report(y_test, y_pred))"
   ]
  },
  {
   "cell_type": "code",
   "execution_count": 70,
   "id": "d1a18646",
   "metadata": {},
   "outputs": [],
   "source": [
    "#Confusion Matrix \n",
    "confusion_matrix = confusion_matrix(y_test, y_pred)"
   ]
  },
  {
   "cell_type": "code",
   "execution_count": 71,
   "id": "e4dd0a17",
   "metadata": {},
   "outputs": [
    {
     "data": {
      "image/png": "[encoded data removed]",
      "text/plain": [
       "<Figure size 432x288 with 2 Axes>"
      ]
     },
     "metadata": {
      "needs_background": "light"
     },
     "output_type": "display_data"
    }
   ],
   "source": [
    "#Display Confusion Matrix \n",
    "cm_display = metrics.ConfusionMatrixDisplay(confusion_matrix = confusion_matrix, display_labels = [False, True])\n",
    "cm_display.plot()\n",
    "plt.show()"
   ]
  },
  {
   "cell_type": "markdown",
   "id": "5dc5738e",
   "metadata": {},
   "source": [
    "## Machine Learning Communication\n",
    "\n",
    "### Rationale why modeling was implemented.\n",
    "* While simpler forms of data analysis, such as descriptive statistics or basic data visualization, can provide initial insights, they may not be sufficient for complex problems or large datasets. Machine learning leverages advanced algorithms to uncover hidden patterns.\n",
    "\n",
    "### Results.\n",
    "> * Training accuracy: 96%\n",
    "> * Testing accuracy: 90%\n",
    "\n",
    "* The accuracy means that the model can predict with an accuracy of 90% whether a tweet is positive or negative.\n",
    "* The current model is fit for prediction since it is generalizing well to new data even with high accuracy.\n",
    "\n",
    "### Limitations of binary model.\n",
    "\n",
    "* Not fit for multiclass datasets."
   ]
  },
  {
   "cell_type": "markdown",
   "id": "2287e55c",
   "metadata": {},
   "source": [
    "### Testing Logistic Regression Model here\n",
    "\n",
    "* We take a sample sentence, preprocess it then pass it to the model to see the output."
   ]
  },
  {
   "cell_type": "code",
   "execution_count": 72,
   "id": "899484cb",
   "metadata": {},
   "outputs": [],
   "source": [
    "# tweet\n",
    "review = 'Awwww!! the google was sooo sweeet!! I loved it'\n",
    "#review = 'i hate apple'"
   ]
  },
  {
   "cell_type": "code",
   "execution_count": 73,
   "id": "85ceee57",
   "metadata": {},
   "outputs": [
    {
     "data": {
      "text/plain": [
       "'awwww!! the google was sooo sweeet!! i loved it'"
      ]
     },
     "execution_count": 73,
     "metadata": {},
     "output_type": "execute_result"
    }
   ],
   "source": [
    "# lowercase\n",
    "review = review.lower()\n",
    "review"
   ]
  },
  {
   "cell_type": "code",
   "execution_count": 74,
   "id": "fdc37725",
   "metadata": {},
   "outputs": [
    {
     "data": {
      "text/plain": [
       "'awwww the google was sooo sweeet i loved it'"
      ]
     },
     "execution_count": 74,
     "metadata": {},
     "output_type": "execute_result"
    }
   ],
   "source": [
    "# removing punctuations\n",
    "review = remove_punctuations(review)\n",
    "review"
   ]
  },
  {
   "cell_type": "code",
   "execution_count": 75,
   "id": "71ba8bf3",
   "metadata": {},
   "outputs": [
    {
     "data": {
      "text/plain": [
       "['awwww', 'the', 'google', 'was', 'sooo', 'sweeet', 'i', 'loved', 'it']"
      ]
     },
     "execution_count": 75,
     "metadata": {},
     "output_type": "execute_result"
    }
   ],
   "source": [
    "# tokenizing the data\n",
    "review = tokenize_text(review)\n",
    "review"
   ]
  },
  {
   "cell_type": "code",
   "execution_count": 76,
   "id": "b3206c75",
   "metadata": {},
   "outputs": [
    {
     "data": {
      "text/plain": [
       "'awwww google sooo sweeet loved'"
      ]
     },
     "execution_count": 76,
     "metadata": {},
     "output_type": "execute_result"
    }
   ],
   "source": [
    "# removing stopwords\n",
    "review = remove_stopwords(review)\n",
    "review"
   ]
  },
  {
   "cell_type": "code",
   "execution_count": 77,
   "id": "14842b7b",
   "metadata": {},
   "outputs": [
    {
     "data": {
      "text/plain": [
       "['awwww', 'google', 'sooo', 'sweeet', 'loved']"
      ]
     },
     "execution_count": 77,
     "metadata": {},
     "output_type": "execute_result"
    }
   ],
   "source": [
    "review = tokenize_text(review)\n",
    "review"
   ]
  },
  {
   "cell_type": "code",
   "execution_count": 78,
   "id": "75ee7321",
   "metadata": {},
   "outputs": [
    {
     "data": {
      "text/plain": [
       "['awwww', 'google', 'sooo', 'sweeet', 'loved']"
      ]
     },
     "execution_count": 78,
     "metadata": {},
     "output_type": "execute_result"
    }
   ],
   "source": [
    "# lemmatization\n",
    "review = lem_words(review)\n",
    "review"
   ]
  },
  {
   "cell_type": "code",
   "execution_count": 79,
   "id": "c65cceff",
   "metadata": {},
   "outputs": [
    {
     "data": {
      "text/plain": [
       "'awwww google sooo sweeet loved'"
      ]
     },
     "execution_count": 79,
     "metadata": {},
     "output_type": "execute_result"
    }
   ],
   "source": [
    "# joining to one sentence\n",
    "review = ' '.join(review)\n",
    "\n",
    "review"
   ]
  },
  {
   "cell_type": "code",
   "execution_count": 80,
   "id": "3a737fd8",
   "metadata": {},
   "outputs": [
    {
     "data": {
      "text/plain": [
       "['awwww google sooo sweeet loved']"
      ]
     },
     "execution_count": 80,
     "metadata": {},
     "output_type": "execute_result"
    }
   ],
   "source": [
    "# putting to list\n",
    "review = [review]\n",
    "review"
   ]
  },
  {
   "cell_type": "code",
   "execution_count": 81,
   "id": "d6eba9cb",
   "metadata": {},
   "outputs": [
    {
     "data": {
      "text/plain": [
       "<1x5871 sparse matrix of type '<class 'numpy.int64'>'\n",
       "\twith 2 stored elements in Compressed Sparse Row format>"
      ]
     },
     "execution_count": 81,
     "metadata": {},
     "output_type": "execute_result"
    }
   ],
   "source": [
    "# vectorizing\n",
    "review_x = bow2.transform(review)\n",
    "review_x"
   ]
  },
  {
   "cell_type": "code",
   "execution_count": 82,
   "id": "35d8c7c7",
   "metadata": {},
   "outputs": [
    {
     "data": {
      "text/plain": [
       "array([3])"
      ]
     },
     "execution_count": 82,
     "metadata": {},
     "output_type": "execute_result"
    }
   ],
   "source": [
    "test_predict = log_reg.predict(review_x)\n",
    "test_predict"
   ]
  },
  {
   "cell_type": "markdown",
   "id": "dae6673b",
   "metadata": {},
   "source": [
    "### 6.2 Multiclass Classifier\n",
    "* Here we work with the original dataset.\n",
    "* We build a multi-class classifier.\n",
    "* MultinomialNB and XGBoost model will be tested."
   ]
  },
  {
   "cell_type": "markdown",
   "id": "74fb9e17",
   "metadata": {},
   "source": [
    "#### MultinomialNB model"
   ]
  },
  {
   "cell_type": "code",
   "execution_count": 83,
   "id": "ece3c1dc",
   "metadata": {},
   "outputs": [],
   "source": [
    "# target variable\n",
    "y = data['emotion_code']"
   ]
  },
  {
   "cell_type": "code",
   "execution_count": 84,
   "id": "e5336ed1",
   "metadata": {},
   "outputs": [],
   "source": [
    "# splitting the data\n",
    "X_train_multi, X_test_multi, y_train_multi, y_test_multi = train_test_split(x, y, test_size=0.2, random_state=42)"
   ]
  },
  {
   "cell_type": "code",
   "execution_count": 85,
   "id": "172b98ab",
   "metadata": {},
   "outputs": [
    {
     "data": {
      "text/plain": [
       "((7256, 9867), (7256,))"
      ]
     },
     "execution_count": 85,
     "metadata": {},
     "output_type": "execute_result"
    }
   ],
   "source": [
    "X_train_multi.shape, y_train_multi.shape"
   ]
  },
  {
   "cell_type": "code",
   "execution_count": 86,
   "id": "bc383d2c",
   "metadata": {},
   "outputs": [
    {
     "data": {
      "text/html": [
       "<style>#sk-container-id-2 {color: black;background-color: white;}#sk-container-id-2 pre{padding: 0;}#sk-container-id-2 div.sk-toggleable {background-color: white;}#sk-container-id-2 label.sk-toggleable__label {cursor: pointer;display: block;width: 100%;margin-bottom: 0;padding: 0.3em;box-sizing: border-box;text-align: center;}#sk-container-id-2 label.sk-toggleable__label-arrow:before {content: \"▸\";float: left;margin-right: 0.25em;color: #696969;}#sk-container-id-2 label.sk-toggleable__label-arrow:hover:before {color: black;}#sk-container-id-2 div.sk-estimator:hover label.sk-toggleable__label-arrow:before {color: black;}#sk-container-id-2 div.sk-toggleable__content {max-height: 0;max-width: 0;overflow: hidden;text-align: left;background-color: #f0f8ff;}#sk-container-id-2 div.sk-toggleable__content pre {margin: 0.2em;color: black;border-radius: 0.25em;background-color: #f0f8ff;}#sk-container-id-2 input.sk-toggleable__control:checked~div.sk-toggleable__content {max-height: 200px;max-width: 100%;overflow: auto;}#sk-container-id-2 input.sk-toggleable__control:checked~label.sk-toggleable__label-arrow:before {content: \"▾\";}#sk-container-id-2 div.sk-estimator input.sk-toggleable__control:checked~label.sk-toggleable__label {background-color: #d4ebff;}#sk-container-id-2 div.sk-label input.sk-toggleable__control:checked~label.sk-toggleable__label {background-color: #d4ebff;}#sk-container-id-2 input.sk-hidden--visually {border: 0;clip: rect(1px 1px 1px 1px);clip: rect(1px, 1px, 1px, 1px);height: 1px;margin: -1px;overflow: hidden;padding: 0;position: absolute;width: 1px;}#sk-container-id-2 div.sk-estimator {font-family: monospace;background-color: #f0f8ff;border: 1px dotted black;border-radius: 0.25em;box-sizing: border-box;margin-bottom: 0.5em;}#sk-container-id-2 div.sk-estimator:hover {background-color: #d4ebff;}#sk-container-id-2 div.sk-parallel-item::after {content: \"\";width: 100%;border-bottom: 1px solid gray;flex-grow: 1;}#sk-container-id-2 div.sk-label:hover label.sk-toggleable__label {background-color: #d4ebff;}#sk-container-id-2 div.sk-serial::before {content: \"\";position: absolute;border-left: 1px solid gray;box-sizing: border-box;top: 0;bottom: 0;left: 50%;z-index: 0;}#sk-container-id-2 div.sk-serial {display: flex;flex-direction: column;align-items: center;background-color: white;padding-right: 0.2em;padding-left: 0.2em;position: relative;}#sk-container-id-2 div.sk-item {position: relative;z-index: 1;}#sk-container-id-2 div.sk-parallel {display: flex;align-items: stretch;justify-content: center;background-color: white;position: relative;}#sk-container-id-2 div.sk-item::before, #sk-container-id-2 div.sk-parallel-item::before {content: \"\";position: absolute;border-left: 1px solid gray;box-sizing: border-box;top: 0;bottom: 0;left: 50%;z-index: -1;}#sk-container-id-2 div.sk-parallel-item {display: flex;flex-direction: column;z-index: 1;position: relative;background-color: white;}#sk-container-id-2 div.sk-parallel-item:first-child::after {align-self: flex-end;width: 50%;}#sk-container-id-2 div.sk-parallel-item:last-child::after {align-self: flex-start;width: 50%;}#sk-container-id-2 div.sk-parallel-item:only-child::after {width: 0;}#sk-container-id-2 div.sk-dashed-wrapped {border: 1px dashed gray;margin: 0 0.4em 0.5em 0.4em;box-sizing: border-box;padding-bottom: 0.4em;background-color: white;}#sk-container-id-2 div.sk-label label {font-family: monospace;font-weight: bold;display: inline-block;line-height: 1.2em;}#sk-container-id-2 div.sk-label-container {text-align: center;}#sk-container-id-2 div.sk-container {/* jupyter's `normalize.less` sets `[hidden] { display: none; }` but bootstrap.min.css set `[hidden] { display: none !important; }` so we also need the `!important` here to be able to override the default hidden behavior on the sphinx rendered scikit-learn.org. See: https://github.com/scikit-learn/scikit-learn/issues/21755 */display: inline-block !important;position: relative;}#sk-container-id-2 div.sk-text-repr-fallback {display: none;}</style><div id=\"sk-container-id-2\" class=\"sk-top-container\"><div class=\"sk-text-repr-fallback\"><pre>MultinomialNB()</pre><b>In a Jupyter environment, please rerun this cell to show the HTML representation or trust the notebook. <br />On GitHub, the HTML representation is unable to render, please try loading this page with nbviewer.org.</b></div><div class=\"sk-container\" hidden><div class=\"sk-item\"><div class=\"sk-estimator sk-toggleable\"><input class=\"sk-toggleable__control sk-hidden--visually\" id=\"sk-estimator-id-2\" type=\"checkbox\" checked><label for=\"sk-estimator-id-2\" class=\"sk-toggleable__label sk-toggleable__label-arrow\">MultinomialNB</label><div class=\"sk-toggleable__content\"><pre>MultinomialNB()</pre></div></div></div></div></div>"
      ],
      "text/plain": [
       "MultinomialNB()"
      ]
     },
     "execution_count": 86,
     "metadata": {},
     "output_type": "execute_result"
    }
   ],
   "source": [
    "# instatiating the multi class model\n",
    "multi_class = MultinomialNB()\n",
    "# fitting the model\n",
    "multi_class.fit(X_train_multi, y_train_multi)"
   ]
  },
  {
   "cell_type": "code",
   "execution_count": 87,
   "id": "87e82cd0",
   "metadata": {},
   "outputs": [],
   "source": [
    "# predicting multi-class\n",
    "y_pred_multi = multi_class.predict(X_test_multi)\n",
    "y_train_pred_multi = multi_class.predict(X_train_multi)"
   ]
  },
  {
   "cell_type": "code",
   "execution_count": 88,
   "id": "c909d20c",
   "metadata": {},
   "outputs": [
    {
     "name": "stdout",
     "output_type": "stream",
     "text": [
      "train 0.8036108048511577\n",
      "test 0.6543550165380375\n"
     ]
    }
   ],
   "source": [
    "# checking the accuracy\n",
    "print('train',accuracy_score(y_train_multi, y_train_pred_multi))\n",
    "print('test',accuracy_score(y_test_multi, y_pred_multi))"
   ]
  },
  {
   "cell_type": "markdown",
   "id": "e80722bf",
   "metadata": {},
   "source": [
    "## Machine Learning Communication - MultiNomialmodel.\n",
    "\n",
    "### Rationale why MultiNomial modeling was implemented.\n",
    "* While simpler forms of modeling can do , they may not be able to work with multi-class datasets.\n",
    "\n",
    "### Results.\n",
    "\n",
    "* Accuracy on the training set: 80%\n",
    "* Accuracy on the testing set: 66%\n",
    "\n",
    "* The model is overfitting\n",
    "\n",
    "### Limitations of multinomial model.\n",
    "* The current model is not fit for prediction since it is not generalizing well to new data even with high accuracy. The model is overfitting.\n"
   ]
  },
  {
   "cell_type": "markdown",
   "id": "0f0b3670",
   "metadata": {},
   "source": [
    "#### XGBoost model"
   ]
  },
  {
   "cell_type": "code",
   "execution_count": 89,
   "id": "75789356",
   "metadata": {},
   "outputs": [
    {
     "data": {
      "text/html": [
       "<style>#sk-container-id-3 {color: black;background-color: white;}#sk-container-id-3 pre{padding: 0;}#sk-container-id-3 div.sk-toggleable {background-color: white;}#sk-container-id-3 label.sk-toggleable__label {cursor: pointer;display: block;width: 100%;margin-bottom: 0;padding: 0.3em;box-sizing: border-box;text-align: center;}#sk-container-id-3 label.sk-toggleable__label-arrow:before {content: \"▸\";float: left;margin-right: 0.25em;color: #696969;}#sk-container-id-3 label.sk-toggleable__label-arrow:hover:before {color: black;}#sk-container-id-3 div.sk-estimator:hover label.sk-toggleable__label-arrow:before {color: black;}#sk-container-id-3 div.sk-toggleable__content {max-height: 0;max-width: 0;overflow: hidden;text-align: left;background-color: #f0f8ff;}#sk-container-id-3 div.sk-toggleable__content pre {margin: 0.2em;color: black;border-radius: 0.25em;background-color: #f0f8ff;}#sk-container-id-3 input.sk-toggleable__control:checked~div.sk-toggleable__content {max-height: 200px;max-width: 100%;overflow: auto;}#sk-container-id-3 input.sk-toggleable__control:checked~label.sk-toggleable__label-arrow:before {content: \"▾\";}#sk-container-id-3 div.sk-estimator input.sk-toggleable__control:checked~label.sk-toggleable__label {background-color: #d4ebff;}#sk-container-id-3 div.sk-label input.sk-toggleable__control:checked~label.sk-toggleable__label {background-color: #d4ebff;}#sk-container-id-3 input.sk-hidden--visually {border: 0;clip: rect(1px 1px 1px 1px);clip: rect(1px, 1px, 1px, 1px);height: 1px;margin: -1px;overflow: hidden;padding: 0;position: absolute;width: 1px;}#sk-container-id-3 div.sk-estimator {font-family: monospace;background-color: #f0f8ff;border: 1px dotted black;border-radius: 0.25em;box-sizing: border-box;margin-bottom: 0.5em;}#sk-container-id-3 div.sk-estimator:hover {background-color: #d4ebff;}#sk-container-id-3 div.sk-parallel-item::after {content: \"\";width: 100%;border-bottom: 1px solid gray;flex-grow: 1;}#sk-container-id-3 div.sk-label:hover label.sk-toggleable__label {background-color: #d4ebff;}#sk-container-id-3 div.sk-serial::before {content: \"\";position: absolute;border-left: 1px solid gray;box-sizing: border-box;top: 0;bottom: 0;left: 50%;z-index: 0;}#sk-container-id-3 div.sk-serial {display: flex;flex-direction: column;align-items: center;background-color: white;padding-right: 0.2em;padding-left: 0.2em;position: relative;}#sk-container-id-3 div.sk-item {position: relative;z-index: 1;}#sk-container-id-3 div.sk-parallel {display: flex;align-items: stretch;justify-content: center;background-color: white;position: relative;}#sk-container-id-3 div.sk-item::before, #sk-container-id-3 div.sk-parallel-item::before {content: \"\";position: absolute;border-left: 1px solid gray;box-sizing: border-box;top: 0;bottom: 0;left: 50%;z-index: -1;}#sk-container-id-3 div.sk-parallel-item {display: flex;flex-direction: column;z-index: 1;position: relative;background-color: white;}#sk-container-id-3 div.sk-parallel-item:first-child::after {align-self: flex-end;width: 50%;}#sk-container-id-3 div.sk-parallel-item:last-child::after {align-self: flex-start;width: 50%;}#sk-container-id-3 div.sk-parallel-item:only-child::after {width: 0;}#sk-container-id-3 div.sk-dashed-wrapped {border: 1px dashed gray;margin: 0 0.4em 0.5em 0.4em;box-sizing: border-box;padding-bottom: 0.4em;background-color: white;}#sk-container-id-3 div.sk-label label {font-family: monospace;font-weight: bold;display: inline-block;line-height: 1.2em;}#sk-container-id-3 div.sk-label-container {text-align: center;}#sk-container-id-3 div.sk-container {/* jupyter's `normalize.less` sets `[hidden] { display: none; }` but bootstrap.min.css set `[hidden] { display: none !important; }` so we also need the `!important` here to be able to override the default hidden behavior on the sphinx rendered scikit-learn.org. See: https://github.com/scikit-learn/scikit-learn/issues/21755 */display: inline-block !important;position: relative;}#sk-container-id-3 div.sk-text-repr-fallback {display: none;}</style><div id=\"sk-container-id-3\" class=\"sk-top-container\"><div class=\"sk-text-repr-fallback\"><pre>XGBClassifier(base_score=0.5, booster=&#x27;gbtree&#x27;, callbacks=None,\n",
       "              colsample_bylevel=1, colsample_bynode=1, colsample_bytree=1,\n",
       "              early_stopping_rounds=None, enable_categorical=False,\n",
       "              eval_metric=None, gamma=0, gpu_id=-1, grow_policy=&#x27;depthwise&#x27;,\n",
       "              importance_type=None, interaction_constraints=&#x27;&#x27;,\n",
       "              learning_rate=0.300000012, max_bin=256, max_cat_to_onehot=4,\n",
       "              max_delta_step=0, max_depth=6, max_leaves=0, min_child_weight=1,\n",
       "              missing=nan, monotone_constraints=&#x27;()&#x27;, n_estimators=100,\n",
       "              n_jobs=0, num_parallel_tree=1, objective=&#x27;multi:softprob&#x27;,\n",
       "              predictor=&#x27;auto&#x27;, random_state=0, reg_alpha=0, ...)</pre><b>In a Jupyter environment, please rerun this cell to show the HTML representation or trust the notebook. <br />On GitHub, the HTML representation is unable to render, please try loading this page with nbviewer.org.</b></div><div class=\"sk-container\" hidden><div class=\"sk-item\"><div class=\"sk-estimator sk-toggleable\"><input class=\"sk-toggleable__control sk-hidden--visually\" id=\"sk-estimator-id-3\" type=\"checkbox\" checked><label for=\"sk-estimator-id-3\" class=\"sk-toggleable__label sk-toggleable__label-arrow\">XGBClassifier</label><div class=\"sk-toggleable__content\"><pre>XGBClassifier(base_score=0.5, booster=&#x27;gbtree&#x27;, callbacks=None,\n",
       "              colsample_bylevel=1, colsample_bynode=1, colsample_bytree=1,\n",
       "              early_stopping_rounds=None, enable_categorical=False,\n",
       "              eval_metric=None, gamma=0, gpu_id=-1, grow_policy=&#x27;depthwise&#x27;,\n",
       "              importance_type=None, interaction_constraints=&#x27;&#x27;,\n",
       "              learning_rate=0.300000012, max_bin=256, max_cat_to_onehot=4,\n",
       "              max_delta_step=0, max_depth=6, max_leaves=0, min_child_weight=1,\n",
       "              missing=nan, monotone_constraints=&#x27;()&#x27;, n_estimators=100,\n",
       "              n_jobs=0, num_parallel_tree=1, objective=&#x27;multi:softprob&#x27;,\n",
       "              predictor=&#x27;auto&#x27;, random_state=0, reg_alpha=0, ...)</pre></div></div></div></div></div>"
      ],
      "text/plain": [
       "XGBClassifier(base_score=0.5, booster='gbtree', callbacks=None,\n",
       "              colsample_bylevel=1, colsample_bynode=1, colsample_bytree=1,\n",
       "              early_stopping_rounds=None, enable_categorical=False,\n",
       "              eval_metric=None, gamma=0, gpu_id=-1, grow_policy='depthwise',\n",
       "              importance_type=None, interaction_constraints='',\n",
       "              learning_rate=0.300000012, max_bin=256, max_cat_to_onehot=4,\n",
       "              max_delta_step=0, max_depth=6, max_leaves=0, min_child_weight=1,\n",
       "              missing=nan, monotone_constraints='()', n_estimators=100,\n",
       "              n_jobs=0, num_parallel_tree=1, objective='multi:softprob',\n",
       "              predictor='auto', random_state=0, reg_alpha=0, ...)"
      ]
     },
     "execution_count": 89,
     "metadata": {},
     "output_type": "execute_result"
    }
   ],
   "source": [
    "# Create an XGBoost classifier instance\n",
    "xgb_classifier = xgb.XGBClassifier()\n",
    "\n",
    "# Fit the model on the training data\n",
    "xgb_classifier.fit(X_train_multi, y_train_multi)\n"
   ]
  },
  {
   "cell_type": "code",
   "execution_count": 90,
   "id": "843ef190",
   "metadata": {},
   "outputs": [],
   "source": [
    "# Make predictions on the testing data\n",
    "#predictions = xgb_classifier.predict(test_x)\n",
    "y_pred_xgb =  xgb_classifier.predict(X_test_multi)\n",
    "y_train_pred_xgb =  xgb_classifier.predict(X_train_multi)"
   ]
  },
  {
   "cell_type": "code",
   "execution_count": 91,
   "id": "5ccf5fe4",
   "metadata": {},
   "outputs": [
    {
     "name": "stdout",
     "output_type": "stream",
     "text": [
      "train 0.7848676957001103\n",
      "test 0.685226019845645\n"
     ]
    }
   ],
   "source": [
    "# checking the accuracy\n",
    "print('train',accuracy_score(y_train_multi, y_train_pred_xgb))\n",
    "print('test',accuracy_score(y_test_multi, y_pred_xgb))"
   ]
  },
  {
   "cell_type": "markdown",
   "id": "cb973f64",
   "metadata": {},
   "source": [
    "## Machine Learning Communication XGBoost.\n",
    "\n",
    "### Rationale why ensemble modeling was implemented.\n",
    "* While simpler forms of data analysis, such as descriptive statistics or basic data visualization, can provide initial insights, they are not sufficient for complex problems or large datasets such as this one. Ensemble models leverages advanced algorithms to uncover hidden patterns, make accurate predictions.\n",
    "\n",
    "### Results.\n",
    "* Accuracy on the training set: 78%\n",
    "\n",
    "* Accuracy on the testing set: 68%\n",
    "\n",
    "* The accuracy means that the model can predict with an accuracy of 78% whether a tweet falls within the specified labels.\n",
    "\n",
    "### Limitations.\n",
    "\n",
    "* The current model is not fit for prediction since it is overfitting.\n",
    "* This we see from the difference between train and test accuracy."
   ]
  },
  {
   "cell_type": "markdown",
   "id": "4ea77e48",
   "metadata": {},
   "source": [
    "## Resampling to handle the class imbalance issue.\n",
    "\n",
    "We try to battle overfitting by handling imbalance issues in the classes, then modelling again."
   ]
  },
  {
   "cell_type": "markdown",
   "id": "c53d5574",
   "metadata": {},
   "source": [
    "### Trying Resampling with xgboost"
   ]
  },
  {
   "cell_type": "code",
   "execution_count": 92,
   "id": "c14f3986",
   "metadata": {},
   "outputs": [
    {
     "name": "stdout",
     "output_type": "stream",
     "text": [
      "Accuracy: 0.6278941565600882\n"
     ]
    }
   ],
   "source": [
    "# Creating an instance of the resampler\n",
    "resampler = RandomOverSampler()  # or RandomUnderSampler()\n",
    "\n",
    "# Perform resampling on the training data\n",
    "resampled_features, resampled_labels = resampler.fit_resample(X_train_multi, y_train_multi)\n",
    "\n",
    "# Create an XGBoost classifier instance\n",
    "xgb_classifier = xgb.XGBClassifier()\n",
    "\n",
    "# Fit the model on the resampled training data\n",
    "xgb_classifier.fit(resampled_features, resampled_labels)\n",
    "\n",
    "# Make predictions on the testing data\n",
    "predictions = xgb_classifier.predict(X_test_multi)\n",
    "\n",
    "# Evaluate the model\n",
    "accuracy = accuracy_score(y_test_multi, predictions)\n",
    "print(\"Accuracy:\", accuracy)"
   ]
  },
  {
   "cell_type": "markdown",
   "id": "d4a3eaed",
   "metadata": {},
   "source": [
    "## ML Communication\n",
    "\n",
    "### Result\n",
    "The resampled model has an accuracy of 61% which is not an improvement over prior models.\n",
    "\n",
    "### Limitations\n",
    "The resampled model is not fit for modelling since its modelling accuracy is low."
   ]
  },
  {
   "cell_type": "markdown",
   "id": "a4cbc057",
   "metadata": {},
   "source": [
    "# Final note on modeling\n",
    "* Despite implementing resampling techniques to address class imbalance, the model's accuracy has not improved significantly. This suggests that other factors within the dataset may be limiting predictive performance.\n",
    "\n",
    "* The binary logistic regression model performs best.\n",
    "* For Multiclass XGBoost was better "
   ]
  },
  {
   "cell_type": "markdown",
   "id": "556b3e1b",
   "metadata": {},
   "source": [
    "# Limitation and Challenges \n",
    "- Class Imbalance Issue: The dataset suffers from class imbalance, where one sentiment class is dominant while others are underrepresented. This can result in biased models that are more accurate for the majority class but perform poorly on the minority classes. Addressing this issue is important to ensure fair and balanced sentiment analysis.\n",
    "\n",
    "- Limited Dataset Size: The dataset used for sentiment analysis is relatively small, which can limit the model's ability to capture the full complexity of sentiments expressed in text. A larger and more diverse dataset would provide a broader representation of sentiments and improve the model's performance and generalization.\n",
    "\n",
    "- Language Ambiguity and Sarcasm Detection: Language can be inherently ambiguous, and detecting sarcasm in text adds an extra layer of complexity. Sarcasm detection is challenging due to the subtleties and nuances involved. Developing robust strategies to handle language ambiguity and detect sarcasm is crucial for accurate sentiment analysis"
   ]
  },
  {
   "cell_type": "markdown",
   "id": "2c4ae7b3",
   "metadata": {},
   "source": [
    "# 7.Findings \n",
    "1. Most tweets were directed to None brand category. This may indicate that customers were not engaging with the brand.\n",
    "2. Positive sentiments had the highest count compared to Negative sentiments, indicating that most people in general liked respective brands(Google and Apple)\n",
    "3. Most of the positive tweets were directed to Apple brands \n",
    "4. In the field of sentiment analysis, one of the significant challenges is dealing with language ambiguity and sarcasm    detection. Natural language is complex and often subjective, making it difficult to accurately interpret sentiments from text. \n",
    "5. On average most of the tweets were 10-15 words long - more words increase ambiguity.\n",
    "6. NLP is a difficult task to model accurately."
   ]
  },
  {
   "cell_type": "markdown",
   "id": "756f7d48",
   "metadata": {},
   "source": [
    "# 8.Recommendations\n",
    "We recommend that there be more customer engagement.\n",
    "\n",
    "Probably check on this areas;\n",
    "\n",
    "   * Churn ratio - rate at which customers discontinue their relationship with a product company within a given time period\n",
    "   * Social media influencers through brand or product endorsement\n",
    "   * Customer feedback - The brands can introduce a rating system to accurately capture the sentiments of their customers "
   ]
  },
  {
   "cell_type": "markdown",
   "id": "89e768e4",
   "metadata": {},
   "source": [
    "# 9. Next steps\n",
    "- In our future work, we plan to explore advanced techniques such as incorporating attention mechanisms, using ensemble methods to further enhance the model's performance by incorporating domain-specific and fine-tuning the model on industry-specific datasets could improve its accuracy and adaptability.\n",
    "\n",
    "- By considering these evaluation metrics, addressing limitations, and planning for future improvements, we aim to develop a robust NLP sentiment analysis solution that effectively captures sentiment\n"
   ]
  },
  {
   "cell_type": "code",
   "execution_count": 93,
   "id": "fdf96175",
   "metadata": {},
   "outputs": [
    {
     "data": {
      "text/plain": [
       "['xgb.pkl']"
      ]
     },
     "execution_count": 93,
     "metadata": {},
     "output_type": "execute_result"
    }
   ],
   "source": [
    "import joblib\n",
    "\n",
    "# Save the trained model as a pickle file\n",
    "joblib.dump(log_reg, 'logistic_regression_model.pkl')\n",
    "joblib.dump(xgb_classifier, 'xgb.pkl')"
   ]
  }
 ],
 "metadata": {
  "kernelspec": {
   "display_name": "python(learn-env)",
   "language": "python",
   "name": "learn-env"
  },
  "language_info": {
   "codemirror_mode": {
    "name": "ipython",
    "version": 3
   },
   "file_extension": ".py",
   "mimetype": "text/x-python",
   "name": "python",
   "nbconvert_exporter": "python",
   "pygments_lexer": "ipython3",
   "version": "3.8.5"
  }
 },
 "nbformat": 4,
 "nbformat_minor": 5
}
